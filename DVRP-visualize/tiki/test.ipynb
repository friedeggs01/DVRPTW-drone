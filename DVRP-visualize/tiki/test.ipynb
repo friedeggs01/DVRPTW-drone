{
 "cells": [
  {
   "cell_type": "code",
   "execution_count": 1,
   "metadata": {},
   "outputs": [
    {
     "name": "stdout",
     "output_type": "stream",
     "text": [
      "[[1, 2, 3], [4, 6, 5], [7, 8, 9]]\n"
     ]
    }
   ],
   "source": [
    "import random\n",
    "def mutate(solution, mutation_rate=0.5):\n",
    "    # Mutate a random sublist by swapping two elements in it with a given mutation probability\n",
    "    if random.random() < mutation_rate:\n",
    "        # Select a random sublist\n",
    "        sublist_idx = random.randint(0, len(solution) - 1)\n",
    "        sublist = solution[sublist_idx]\n",
    "        \n",
    "        # Swap two random elements within the chosen sublist\n",
    "        if len(sublist) > 1:  # Ensure there are at least 2 elements to swap\n",
    "            i, j = random.sample(range(len(sublist)), 2)\n",
    "            sublist[i], sublist[j] = sublist[j], sublist[i]\n",
    "        \n",
    "        # Update the solution with the mutated sublist\n",
    "        solution[sublist_idx] = sublist\n",
    "    \n",
    "    return solution\n",
    "solution = [[1,2,3], [4,5,6], [7,8,9]]\n",
    "print(mutate(solution))"
   ]
  },
  {
   "cell_type": "code",
   "execution_count": null,
   "metadata": {},
   "outputs": [],
   "source": []
  }
 ],
 "metadata": {
  "kernelspec": {
   "display_name": "base",
   "language": "python",
   "name": "python3"
  },
  "language_info": {
   "codemirror_mode": {
    "name": "ipython",
    "version": 3
   },
   "file_extension": ".py",
   "mimetype": "text/x-python",
   "name": "python",
   "nbconvert_exporter": "python",
   "pygments_lexer": "ipython3",
   "version": "3.11.5"
  }
 },
 "nbformat": 4,
 "nbformat_minor": 2
}
