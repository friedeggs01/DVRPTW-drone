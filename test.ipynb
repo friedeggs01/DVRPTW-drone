{
 "cells": [
  {
   "cell_type": "code",
   "execution_count": 1,
   "metadata": {},
   "outputs": [],
   "source": [
    "from gp.node.function import *\n",
    "from gp.node.terminal import *\n",
    "from gp.population.population import *\n",
    "from utils.function_operator import *\n",
    "from singleObjective.singleObjective import run_SingleObjective\n",
    "from deployment.evaluation import calFitness_three_policies\n",
    "from utils.crossover import *\n",
    "from utils.mutation import *\n",
    "import multiprocessing\n",
    "from utils.initialization import *\n",
    "    \n",
    "# Algorithm parameters\n",
    "num_pro = 10\n",
    "pop_size = 10\n",
    "max_gen = 5\n",
    "min_height = 2\n",
    "max_height = 8\n",
    "initialization_max_height = 4\n",
    "num_of_tour_particips = 2\n",
    "tournament_prob = 0.8\n",
    "pc = 0.8\n",
    "pm = 0.1\n",
    "\n",
    "# Vehicle parameters\n",
    "num_vehicle = 3\n",
    "truck_capacity = 1300\n",
    "drone_capacity = 10\n",
    "drone_endurance = 30\n",
    "\n",
    "# Reproduction operators\n",
    "crossover_operator_list = [crossover_branch_individual_swap]\n",
    "mutation_operator_list = [mutation_individual_branch_replace]\n",
    "\n",
    "# Data parameters\n",
    "alpha = 0.5\n",
    "duration = 10\n",
    "start_train = 0\n",
    "end_train = 1000\n",
    "end_test = 1000\n",
    "\n",
    "data_path =r\"data\\100\\h100c101.csv\"\n"
   ]
  },
  {
   "cell_type": "code",
   "execution_count": 2,
   "metadata": {},
   "outputs": [],
   "source": [
    "# Node of tree\n",
    "function = [AddNode(), SubNode(), MulNode(), DivNode(), MaxNode(), MinNode()]\n",
    "terminal_decision = [MVC(), ATR(), SDR(), TWE(), WTR(), DDR(), DEM(), PN(), ST(), MD(), Const()]\n",
    "terminal_ordering = [ATR(), SDR(), TWE(), WTR(), DDR(), DEM(), PN(), ST(), MD(), Const()]\n",
    "terminal_choosing = [TTC(), DTC(), TRC(), PL(), NC(), MDV(), Const()]\n",
    "\n",
    "decision_tree = None\n",
    "ordering_tree = None\n",
    "choosing_tree = None\n",
    "indi_list = random_population_init(pop_size, min_height, initialization_max_height,\n",
    "                    function, terminal_decision, terminal_ordering, terminal_choosing, decision_tree, ordering_tree, choosing_tree)\n"
   ]
  },
  {
   "cell_type": "code",
   "execution_count": 3,
   "metadata": {},
   "outputs": [
    {
     "name": "stdout",
     "output_type": "stream",
     "text": [
      "Carbon upper:  8634.753206203404\n",
      "Reject upper:  101\n",
      "Generation 0: [989.9800531180655, 46]\n",
      "The he 1: [995.6954241333051, 45]\n",
      "res gen:  [[989.9800531180655, 46], [989.9800531180655, 46]]\n",
      "The he 2: [1179.8468915004491, 41]\n",
      "res gen:  [[989.9800531180655, 46], [989.9800531180655, 46], [989.9800531180655, 46]]\n",
      "The he 3: [1179.8468915004491, 41]\n",
      "res gen:  [[989.9800531180655, 46], [989.9800531180655, 46], [989.9800531180655, 46], [989.9800531180655, 46]]\n",
      "The he 4: [1064.0670749208077, 23]\n",
      "res gen:  [[989.9800531180655, 46], [989.9800531180655, 46], [989.9800531180655, 46], [989.9800531180655, 46], [989.9800531180655, 46]]\n",
      "The he 5: [987.688120248484, 23]\n",
      "res gen:  [[989.9800531180655, 46], [989.9800531180655, 46], [989.9800531180655, 46], [989.9800531180655, 46], [989.9800531180655, 46], [989.9800531180655, 46]]\n"
     ]
    }
   ],
   "source": [
    "result, res_gen = run_SingleObjective(data_path, num_pro, \n",
    "                num_vehicle, truck_capacity, drone_capacity, drone_endurance,\n",
    "                indi_list,  \n",
    "                function, terminal_decision, terminal_ordering, terminal_choosing, \n",
    "                pop_size, max_gen,  min_height, max_height, initialization_max_height,  \n",
    "                num_of_tour_particips, tournament_prob, pc, pm,\n",
    "                crossover_operator_list, mutation_operator_list, calFitness_three_policies, \n",
    "                decision_tree, ordering_tree, choosing_tree, \n",
    "                alpha, duration, start_train, end_train, end_test)"
   ]
  },
  {
   "cell_type": "code",
   "execution_count": 4,
   "metadata": {},
   "outputs": [
    {
     "data": {
      "text/plain": [
       "[[989.9800531180655, 46],\n",
       " [989.9800531180655, 46],\n",
       " [989.9800531180655, 46],\n",
       " [989.9800531180655, 46],\n",
       " [989.9800531180655, 46],\n",
       " [989.9800531180655, 46]]"
      ]
     },
     "execution_count": 4,
     "metadata": {},
     "output_type": "execute_result"
    }
   ],
   "source": [
    "res_gen"
   ]
  },
  {
   "cell_type": "code",
   "execution_count": 13,
   "metadata": {},
   "outputs": [],
   "source": [
    "import os\n",
    "# Save result\n",
    "file_name = f'result\\\\{data_path}'\n",
    "os.makedirs(os.path.dirname(file_name), exist_ok=True)\n",
    "\n",
    "with open(file_name, \"a\") as file:\n",
    "    for res in res_gen:\n",
    "        res = ' '.join(map(str, res))  # Convert each element in the result to a string and join them with spaces\n",
    "        file.write(res + '\\n')  # Write the result to the file and add a newline character\n"
   ]
  },
  {
   "cell_type": "code",
   "execution_count": null,
   "metadata": {},
   "outputs": [],
   "source": [
    "# Mình đang bỏ qua ràng buộc thời gian bay của drone (a sẽ bổ sung sau nhưng mình coi thời gian bay của drone là vô cùng đi)\n",
    "# Em đẩy code lên server r chạy nhé, để chạy tất cả các bộ em hỏi anh Tùng xem có chạy node nào không, không em đẩy lên luôn 3 node\n",
    "# Số thế hệ em để tạm 50 thôi, số cá thể là 100, số core chạy num_pro = 80  (cao hơn có thể bị sập)\n",
    "# Thời gian end_train em xem mấy bộ xem để giá trị hợp lý để có thể chạy được hết các yêu cầu (có thể là end_timewindow của request cuối cùng/ hoặc một giá trị đủ lớn 10000)\n",
    "# Phần heuristic chạy trên máy local cx được, phần này thì nhanh\n"
   ]
  }
 ],
 "metadata": {
  "kernelspec": {
   "display_name": "Python 3",
   "language": "python",
   "name": "python3"
  },
  "language_info": {
   "codemirror_mode": {
    "name": "ipython",
    "version": 3
   },
   "file_extension": ".py",
   "mimetype": "text/x-python",
   "name": "python",
   "nbconvert_exporter": "python",
   "pygments_lexer": "ipython3",
   "version": "3.11.6"
  }
 },
 "nbformat": 4,
 "nbformat_minor": 2
}
