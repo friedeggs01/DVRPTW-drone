{
 "cells": [
  {
   "cell_type": "code",
   "execution_count": 1,
   "metadata": {},
   "outputs": [],
   "source": [
    "from gp.node.function import *\n",
    "from gp.node.terminal import *\n",
    "from gp.population.population import *\n",
    "from utils.function_operator import *\n",
    "from singleObjective.singleObjective import run_SingleObjective\n",
    "from deployment.evaluation import calFitness_three_policies\n",
    "from utils.crossover import *\n",
    "from utils.mutation import *\n",
    "import multiprocessing\n",
    "from utils.initialization import *\n",
    "    \n",
    "# Algorithm parameters\n",
    "num_pro = 10\n",
    "pop_size = 30\n",
    "max_gen = 20\n",
    "min_height = 2\n",
    "max_height = 8\n",
    "initialization_max_height = 4\n",
    "num_of_tour_particips = 2\n",
    "tournament_prob = 0.8\n",
    "pc = 0.8\n",
    "pm = 0.1\n",
    "\n",
    "# Vehicle parameters\n",
    "num_vehicle = 3\n",
    "truck_capacity = 1300\n",
    "drone_capacity = 10\n",
    "drone_endurance = 30\n",
    "\n",
    "# Reproduction operators\n",
    "crossover_operator_list = [crossover_branch_individual_swap]\n",
    "mutation_operator_list = [mutation_individual_branch_replace]\n",
    "\n",
    "# Data parameters\n",
    "alpha = 0.5\n",
    "duration = 10\n",
    "start_train = 0\n",
    "end_train = 1000\n",
    "end_test = 1000\n",
    "\n",
    "data_path =r\"data\\benchmark_data\\100\\h100c101.csv\"\n"
   ]
  },
  {
   "cell_type": "code",
   "execution_count": 2,
   "metadata": {},
   "outputs": [],
   "source": [
    "# Node of tree\n",
    "function = [AddNode(), SubNode(), MulNode(), DivNode(), MaxNode(), MinNode()]\n",
    "terminal_decision = [MVC(), ATR(), SDR(), TWE(), WTR(), DDR(), DEM(), PN(), ST(), MD(), Const()]\n",
    "terminal_ordering = [ATR(), SDR(), TWE(), WTR(), DDR(), DEM(), PN(), ST(), MD(), Const()]\n",
    "terminal_choosing = [TTC(), DTC(), TRC(), PL(), NC(), MDV(), Const()]\n",
    "\n",
    "decision_tree = None\n",
    "ordering_tree = None\n",
    "choosing_tree = None\n",
    "indi_list = random_population_init(pop_size, min_height, initialization_max_height,\n",
    "                    function, terminal_decision, terminal_ordering, terminal_choosing, decision_tree, ordering_tree, choosing_tree)\n"
   ]
  },
  {
   "cell_type": "code",
   "execution_count": 3,
   "metadata": {},
   "outputs": [
    {
     "name": "stdout",
     "output_type": "stream",
     "text": [
      "The he 0: [963.0386982694099, 39]\n",
      "The he 1: [963.0386982694099, 39]\n",
      "The he 2: [1217.7632289865041, 31]\n",
      "The he 3: [1308.8323415115701, 26]\n",
      "The he 4: [1308.8323415115701, 26]\n",
      "The he 5: [689.7976044938601, 31]\n",
      "The he 6: [689.7976044938601, 31]\n",
      "The he 7: [689.7976044938601, 31]\n",
      "The he 8: [689.7976044938601, 31]\n",
      "The he 9: [689.7976044938601, 31]\n",
      "The he 10: [689.7976044938601, 31]\n",
      "The he 11: [733.7870499414016, 27]\n",
      "The he 12: [733.7870499414016, 27]\n",
      "The he 13: [859.1025480652082, 25]\n",
      "The he 14: [865.5239161491176, 23]\n",
      "The he 15: [865.5239161491176, 23]\n",
      "The he 16: [824.3378745096841, 23]\n",
      "The he 17: [814.3983424968906, 23]\n",
      "The he 18: [814.3983424968906, 23]\n",
      "The he 19: [765.5762484602974, 23]\n",
      "The he 20: [765.5762484602974, 23]\n"
     ]
    }
   ],
   "source": [
    "result = run_SingleObjective(data_path, num_pro, \n",
    "                num_vehicle, truck_capacity, drone_capacity, drone_endurance,\n",
    "                indi_list,  \n",
    "                function, terminal_decision, terminal_ordering, terminal_choosing, \n",
    "                pop_size, max_gen,  min_height, max_height, initialization_max_height,  \n",
    "                num_of_tour_particips, tournament_prob, pc, pm,\n",
    "                crossover_operator_list, mutation_operator_list, calFitness_three_policies, \n",
    "                decision_tree, ordering_tree, choosing_tree, \n",
    "                alpha, duration, start_train, end_train, end_test)"
   ]
  }
 ],
 "metadata": {
  "kernelspec": {
   "display_name": "Python 3",
   "language": "python",
   "name": "python3"
  },
  "language_info": {
   "codemirror_mode": {
    "name": "ipython",
    "version": 3
   },
   "file_extension": ".py",
   "mimetype": "text/x-python",
   "name": "python",
   "nbconvert_exporter": "python",
   "pygments_lexer": "ipython3",
   "version": "3.11.6"
  }
 },
 "nbformat": 4,
 "nbformat_minor": 2
}
