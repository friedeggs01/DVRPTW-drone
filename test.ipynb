{
 "cells": [
  {
   "cell_type": "code",
   "execution_count": 4,
   "metadata": {},
   "outputs": [],
   "source": [
    "from gp.node.function import *\n",
    "from gp.node.terminal import *\n",
    "from gp.population.population import *\n",
    "from utils.function_operator import *\n",
    "from singleObjective.singleObjective import run_SingleObjective\n",
    "from deployment.evaluation import calFitness_three_policies\n",
    "from utils.crossover import *\n",
    "from utils.mutation import *\n",
    "import multiprocessing\n",
    "from data.read_data import *\n",
    "from utils.initialization import *\n",
    "    \n",
    "multiprocessing.freeze_support()\n",
    "num_pro = 10\n",
    "num_train = 10\n",
    "pop_size = 30\n",
    "max_gen = 20\n",
    "min_height = 2\n",
    "max_height = 8\n",
    "initialization_max_height = 4\n",
    "num_of_tour_particips = 2\n",
    "tournament_prob = 0.8\n",
    "pc = 0.8\n",
    "pm = 0.1\n",
    "num_neigbor = 10\n",
    "num_vehicle = 3\n",
    "truck_capacity = 1300\n",
    "drone_capacity = 10\n",
    "drone_endurance = 30\n",
    "\n",
    "# crossover_operator_list = [crossover_branch_individual_swap, crossover_sub_tree_swap]\n",
    "# mutation_operator_list = [mutation_individual_branch_replace, mutation_individual_node_replace, \n",
    "#                           mutation_individual_branch_swap, mutation_value_decision]\n",
    "crossover_operator_list = [crossover_branch_individual_swap]\n",
    "mutation_operator_list = [mutation_individual_branch_replace]\n",
    "neighborhood_size = 3\n",
    "max_NFE = 500\n",
    "data_path = r\"data\\benchmark_data\\100\\h100c101.csv\"\n",
    "read_data = Read_data()\n",
    "request_list = read_data.read_request(r\"data\\benchmark_data\\100\\h100c101.csv\")\n",
    "alpha = 0.5\n",
    "duration = 10\n",
    "start_train = 0\n",
    "end_train = 100\n",
    "end_test = 1000"
   ]
  },
  {
   "cell_type": "code",
   "execution_count": 5,
   "metadata": {},
   "outputs": [
    {
     "name": "stdout",
     "output_type": "stream",
     "text": [
      "functions init:  [+, -, *, /, Max, Min]\n",
      "Individual:  <gp.population.individual.Individual object at 0x000001CD5B1B7380>\n",
      "functions init:  [+, -, *, /, Max, Min]\n",
      "Individual:  <gp.population.individual.Individual object at 0x000001CD5B1B7320>\n",
      "functions init:  [+, -, *, /, Max, Min]\n",
      "Individual:  <gp.population.individual.Individual object at 0x000001CD7C473350>\n",
      "functions init:  [+, -, *, /, Max, Min]\n",
      "Individual:  <gp.population.individual.Individual object at 0x000001CD7C4AFA40>\n",
      "functions init:  [+, -, *, /, Max, Min]\n",
      "Individual:  <gp.population.individual.Individual object at 0x000001CD7C4ACEC0>\n",
      "functions init:  [+, -, *, /, Max, Min]\n",
      "Individual:  <gp.population.individual.Individual object at 0x000001CD7C4ADBB0>\n",
      "functions init:  [+, -, *, /, Max, Min]\n",
      "Individual:  <gp.population.individual.Individual object at 0x000001CD7C4B44D0>\n",
      "functions init:  [+, -, *, /, Max, Min]\n",
      "Individual:  <gp.population.individual.Individual object at 0x000001CD7C4B5340>\n",
      "functions init:  [+, -, *, /, Max, Min]\n",
      "Individual:  <gp.population.individual.Individual object at 0x000001CD7C4B5EB0>\n",
      "functions init:  [+, -, *, /, Max, Min]\n",
      "Individual:  <gp.population.individual.Individual object at 0x000001CD7C4B6780>\n",
      "functions init:  [+, -, *, /, Max, Min]\n",
      "Individual:  <gp.population.individual.Individual object at 0x000001CD7C4B7590>\n",
      "functions init:  [+, -, *, /, Max, Min]\n",
      "Individual:  <gp.population.individual.Individual object at 0x000001CD7C4C4680>\n",
      "functions init:  [+, -, *, /, Max, Min]\n",
      "Individual:  <gp.population.individual.Individual object at 0x000001CD7C4C60C0>\n",
      "functions init:  [+, -, *, /, Max, Min]\n",
      "Individual:  <gp.population.individual.Individual object at 0x000001CD7C4C76B0>\n",
      "functions init:  [+, -, *, /, Max, Min]\n",
      "Individual:  <gp.population.individual.Individual object at 0x000001CD7C4D1040>\n",
      "functions init:  [+, -, *, /, Max, Min]\n",
      "Individual:  <gp.population.individual.Individual object at 0x000001CD7C4D2360>\n",
      "functions init:  [+, -, *, /, Max, Min]\n",
      "Individual:  <gp.population.individual.Individual object at 0x000001CD7C4D3800>\n",
      "functions init:  [+, -, *, /, Max, Min]\n",
      "Individual:  <gp.population.individual.Individual object at 0x000001CD7C4E4DD0>\n",
      "functions init:  [+, -, *, /, Max, Min]\n",
      "Individual:  <gp.population.individual.Individual object at 0x000001CD7C502E10>\n",
      "functions init:  [+, -, *, /, Max, Min]\n",
      "Individual:  <gp.population.individual.Individual object at 0x000001CD7C501C70>\n",
      "functions init:  [+, -, *, /, Max, Min]\n",
      "Individual:  <gp.population.individual.Individual object at 0x000001CD7C5035F0>\n",
      "functions init:  [+, -, *, /, Max, Min]\n",
      "Individual:  <gp.population.individual.Individual object at 0x000001CD7C62C8C0>\n",
      "functions init:  [+, -, *, /, Max, Min]\n",
      "Individual:  <gp.population.individual.Individual object at 0x000001CD7C62E180>\n",
      "functions init:  [+, -, *, /, Max, Min]\n",
      "Individual:  <gp.population.individual.Individual object at 0x000001CD7C62F8F0>\n",
      "functions init:  [+, -, *, /, Max, Min]\n",
      "Individual:  <gp.population.individual.Individual object at 0x000001CD7C648CB0>\n",
      "functions init:  [+, -, *, /, Max, Min]\n",
      "Individual:  <gp.population.individual.Individual object at 0x000001CD7C64A6C0>\n",
      "functions init:  [+, -, *, /, Max, Min]\n",
      "Individual:  <gp.population.individual.Individual object at 0x000001CD7C64BAD0>\n",
      "functions init:  [+, -, *, /, Max, Min]\n",
      "Individual:  <gp.population.individual.Individual object at 0x000001CD7C651190>\n",
      "functions init:  [+, -, *, /, Max, Min]\n",
      "Individual:  <gp.population.individual.Individual object at 0x000001CD7C652A20>\n",
      "functions init:  [+, -, *, /, Max, Min]\n",
      "Individual:  <gp.population.individual.Individual object at 0x000001CD7C3E2840>\n"
     ]
    },
    {
     "ename": "",
     "evalue": "",
     "output_type": "error",
     "traceback": [
      "\u001b[1;31mThe Kernel crashed while executing code in the current cell or a previous cell. \n",
      "\u001b[1;31mPlease review the code in the cell(s) to identify a possible cause of the failure. \n",
      "\u001b[1;31mClick <a href='https://aka.ms/vscodeJupyterKernelCrash'>here</a> for more info. \n",
      "\u001b[1;31mView Jupyter <a href='command:jupyter.viewOutput'>log</a> for further details."
     ]
    }
   ],
   "source": [
    "function = [AddNode(), SubNode(), MulNode(), DivNode(), MaxNode(), MinNode()]\n",
    "terminal_decision = [ATR()]\n",
    "terminal_ordering = [ATR(), SDR()]\n",
    "terminal_choosing = [SDR(), DDR(), DCC(), CRS(), CDS(), TRC(), DRC(), DRB(), Const()] \n",
    "\n",
    "# khởi tạo cây như nào\n",
    "decision_tree = ATR()\n",
    "ordering_tree = None\n",
    "choosing_tree = None\n",
    "indi_list = random_population_init(pop_size, min_height, initialization_max_height,\n",
    "                    function, terminal_decision, terminal_ordering, terminal_choosing, decision_tree, ordering_tree, choosing_tree)\n"
   ]
  },
  {
   "cell_type": "code",
   "execution_count": 6,
   "metadata": {},
   "outputs": [
    {
     "name": "stdout",
     "output_type": "stream",
     "text": [
      "Số request: 29\n",
      "[0, 1000]\n",
      "[1, 1000]\n",
      "[2, 1000]\n",
      "carbon_sum:  471.84887775117176\n",
      "num_reject:  17\n",
      "[0, 1000]\n",
      "[1, 1000]\n",
      "[2, 1000]\n",
      "carbon_sum:  471.84887775117176\n",
      "num_reject:  17\n",
      "[0, 1000]\n",
      "[1, 1000]\n",
      "[2, 1000]\n"
     ]
    }
   ],
   "source": [
    "result = run_SingleObjective(data_path, num_pro, \n",
    "                num_vehicle, truck_capacity, drone_capacity, drone_endurance,\n",
    "                indi_list, num_train,  \n",
    "                function, terminal_decision, terminal_ordering, terminal_choosing, \n",
    "                pop_size, max_gen,  min_height, max_height, initialization_max_height,  \n",
    "                num_of_tour_particips, tournament_prob, pc, pm,\n",
    "                crossover_operator_list, mutation_operator_list, calFitness_three_policies, decision_tree, alpha,\n",
    "                duration, start_train, end_train, end_test)"
   ]
  },
  {
   "cell_type": "code",
   "execution_count": null,
   "metadata": {},
   "outputs": [],
   "source": []
  }
 ],
 "metadata": {
  "kernelspec": {
   "display_name": "Python 3",
   "language": "python",
   "name": "python3"
  },
  "language_info": {
   "codemirror_mode": {
    "name": "ipython",
    "version": 3
   },
   "file_extension": ".py",
   "mimetype": "text/x-python",
   "name": "python",
   "nbconvert_exporter": "python",
   "pygments_lexer": "ipython3",
   "version": "3.12.0"
  }
 },
 "nbformat": 4,
 "nbformat_minor": 2
}
