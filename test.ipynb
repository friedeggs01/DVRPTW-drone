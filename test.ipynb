{
 "cells": [
  {
   "cell_type": "code",
   "execution_count": 1,
   "metadata": {},
   "outputs": [],
   "source": [
    "from gp.node.function import *\n",
    "from gp.node.terminal import *\n",
    "from gp.population.population import *\n",
    "from utils.function_operator import *\n",
    "from singleObjective.singleObjective import run_SingleObjective\n",
    "from deployment.evaluation import calFitness_three_policies\n",
    "from utils.crossover import *\n",
    "from utils.mutation import *\n",
    "import multiprocessing\n",
    "from utils.initialization import *\n",
    "    \n",
    "# Algorithm parameters\n",
    "num_pro = 10\n",
    "pop_size = 30\n",
    "max_gen = 20\n",
    "min_height = 2\n",
    "max_height = 8\n",
    "initialization_max_height = 4\n",
    "num_of_tour_particips = 2\n",
    "tournament_prob = 0.8\n",
    "pc = 0.8\n",
    "pm = 0.1\n",
    "\n",
    "# Vehicle parameters\n",
    "num_vehicle = 3\n",
    "truck_capacity = 1300\n",
    "drone_capacity = 10\n",
    "drone_endurance = 30\n",
    "\n",
    "# Reproduction operators\n",
    "crossover_operator_list = [crossover_branch_individual_swap]\n",
    "mutation_operator_list = [mutation_individual_branch_replace]\n",
    "\n",
    "# Data parameters\n",
    "alpha = 0.5\n",
    "duration = 10\n",
    "start_train = 0\n",
    "end_train = 1000\n",
    "end_test = 1000\n",
    "\n",
    "data_path =r\"data\\100\\h100c101.csv\"\n"
   ]
  },
  {
   "cell_type": "code",
   "execution_count": 2,
   "metadata": {},
   "outputs": [],
   "source": [
    "# Node of tree\n",
    "function = [AddNode(), SubNode(), MulNode(), DivNode(), MaxNode(), MinNode()]\n",
    "terminal_decision = [MVC(), ATR(), SDR(), TWE(), WTR(), DDR(), DEM(), PN(), ST(), MD(), Const()]\n",
    "terminal_ordering = [ATR(), SDR(), TWE(), WTR(), DDR(), DEM(), PN(), ST(), MD(), Const()]\n",
    "terminal_choosing = [TTC(), DTC(), TRC(), PL(), NC(), MDV(), Const()]\n",
    "\n",
    "decision_tree = None\n",
    "ordering_tree = None\n",
    "choosing_tree = None\n",
    "indi_list = random_population_init(pop_size, min_height, initialization_max_height,\n",
    "                    function, terminal_decision, terminal_ordering, terminal_choosing, decision_tree, ordering_tree, choosing_tree)\n"
   ]
  },
  {
   "cell_type": "code",
   "execution_count": 3,
   "metadata": {},
   "outputs": [
    {
     "name": "stdout",
     "output_type": "stream",
     "text": [
      "Carbon upper:  8634.753206203404\n",
      "Reject upper:  101\n",
      "Generation 0: [1117.7655999930107, 24]\n",
      "The he 1: [1117.7655999930107, 24]\n",
      "The he 2: [1117.7655999930107, 24]\n",
      "The he 3: [1117.7655999930107, 24]\n",
      "The he 4: [1067.9604402295292, 24]\n",
      "The he 5: [867.5003609075349, 24]\n",
      "The he 6: [867.5003609075349, 24]\n",
      "The he 7: [867.5003609075349, 24]\n",
      "The he 8: [867.5003609075349, 24]\n",
      "The he 9: [867.5003609075349, 24]\n",
      "The he 10: [778.6245061618856, 24]\n",
      "The he 11: [754.356962809993, 24]\n",
      "The he 12: [754.356962809993, 24]\n",
      "The he 13: [803.2845786158719, 23]\n",
      "The he 14: [803.2845786158719, 23]\n",
      "The he 15: [803.2845786158719, 23]\n",
      "The he 16: [801.6933044490681, 22]\n",
      "The he 17: [801.685857176507, 22]\n",
      "The he 18: [801.685857176507, 22]\n",
      "The he 19: [801.685857176507, 22]\n",
      "The he 20: [801.685857176507, 22]\n",
      "[61, 87, 52, 60, 29, 90, 65, 54, 70, 67, 86, 82, 72, 36, 49, 79, 45, 51, 24, 32, 53, 66, 80, 4, 0, -1, 32, 51, 60, 66, 70, 79]\n",
      "[41, 46, 73, 75, 85, 88, 30, 57, 74, 78, 76, 64, 56, 63, 39, 68, 84, 33, 37, 55, 27, 42, 28, 83, 81, -1, 33, 42, 46, 55, 57, 63, 75, 76, 83]\n",
      "[69, 93, 47, 96, 38, 95, 44, 89, 59, 43, 26, 91, 71, 77, 40, 35, 34, 31, 25, 62, 50, 94, 92, 58, 48, -1, 31, 35, 43, 58, 62, 77, 91, 89, 93, 94, 95, 96]\n",
      "801.685857176507 22\n"
     ]
    }
   ],
   "source": [
    "result, res_gen = run_SingleObjective(data_path, num_pro, \n",
    "                num_vehicle, truck_capacity, drone_capacity, drone_endurance,\n",
    "                indi_list,  \n",
    "                function, terminal_decision, terminal_ordering, terminal_choosing, \n",
    "                pop_size, max_gen,  min_height, max_height, initialization_max_height,  \n",
    "                num_of_tour_particips, tournament_prob, pc, pm,\n",
    "                crossover_operator_list, mutation_operator_list, calFitness_three_policies, \n",
    "                decision_tree, ordering_tree, choosing_tree, \n",
    "                alpha, duration, start_train, end_train, end_test)"
   ]
  },
  {
   "cell_type": "code",
   "execution_count": 11,
   "metadata": {},
   "outputs": [
    {
     "name": "stdout",
     "output_type": "stream",
     "text": [
      "[845.6328627723487, 22]\n"
     ]
    }
   ],
   "source": [
    "print(result)"
   ]
  },
  {
   "cell_type": "code",
   "execution_count": 10,
   "metadata": {},
   "outputs": [
    {
     "ename": "NameError",
     "evalue": "name 'Read_data' is not defined",
     "output_type": "error",
     "traceback": [
      "\u001b[1;31m---------------------------------------------------------------------------\u001b[0m",
      "\u001b[1;31mNameError\u001b[0m                                 Traceback (most recent call last)",
      "Cell \u001b[1;32mIn[10], line 5\u001b[0m\n\u001b[0;32m      3\u001b[0m drone_capacity \u001b[38;5;241m=\u001b[39m \u001b[38;5;241m10\u001b[39m\n\u001b[0;32m      4\u001b[0m drone_endurance \u001b[38;5;241m=\u001b[39m \u001b[38;5;241m30\u001b[39m\n\u001b[1;32m----> 5\u001b[0m reader \u001b[38;5;241m=\u001b[39m \u001b[43mRead_data\u001b[49m()\n\u001b[0;32m      6\u001b[0m request_list \u001b[38;5;241m=\u001b[39m reader\u001b[38;5;241m.\u001b[39mread_request(data_path)      \n\u001b[0;32m      7\u001b[0m network \u001b[38;5;241m=\u001b[39m Network(request_list, num_vehicle, truck_capacity, drone_capacity, drone_endurance)\n",
      "\u001b[1;31mNameError\u001b[0m: name 'Read_data' is not defined"
     ]
    }
   ],
   "source": [
    "from utils.utils import *\n",
    "from data.read_data import *\n",
    "from graph.network import Network\n",
    "from deployment.evaluation import cal_carbon_emission\n",
    "num_vehicle = 3\n",
    "truck_capacity = 1300\n",
    "drone_capacity = 10\n",
    "drone_endurance = 30\n",
    "reader = Read_data()\n",
    "request_list = reader.read_request(data_path)      \n",
    "network = Network(request_list, num_vehicle, truck_capacity, drone_capacity, drone_endurance)\n",
    "\n",
    "\n",
    "car_bon = calFitness_three_policies()\n"
   ]
  },
  {
   "cell_type": "code",
   "execution_count": null,
   "metadata": {},
   "outputs": [
    {
     "data": {
      "text/plain": [
       "[[2027.6022817741882, 10],\n",
       " [2027.6022817741882, 10],\n",
       " [2027.6022817741882, 10],\n",
       " [2027.6022817741882, 10],\n",
       " [2027.6022817741882, 10],\n",
       " [2027.6022817741882, 10],\n",
       " [2027.6022817741882, 10],\n",
       " [2027.6022817741882, 10],\n",
       " [1939.7162288338563, 10],\n",
       " [1939.7162288338563, 10],\n",
       " [1962.749640805901, 8],\n",
       " [1962.749640805901, 8],\n",
       " [1735.0730772237685, 8],\n",
       " [1735.0730772237685, 8],\n",
       " [1735.0730772237685, 8],\n",
       " [1615.8694985238467, 8],\n",
       " [1615.8694985238467, 8],\n",
       " [1615.8694985238467, 8],\n",
       " [1615.8694985238467, 8],\n",
       " [1615.8694985238467, 8],\n",
       " [1615.8694985238467, 8]]"
      ]
     },
     "execution_count": 4,
     "metadata": {},
     "output_type": "execute_result"
    }
   ],
   "source": [
    "res_gen"
   ]
  },
  {
   "cell_type": "code",
   "execution_count": null,
   "metadata": {},
   "outputs": [],
   "source": [
    "import os\n",
    "# Save result\n",
    "file_name = f'result\\\\{data_path}'\n",
    "os.makedirs(os.path.dirname(file_name), exist_ok=True)\n",
    "\n",
    "with open(file_name, \"a\") as file:\n",
    "    for res in res_gen:\n",
    "        res = ' '.join(map(str, res))  # Convert each element in the result to a string and join them with spaces\n",
    "        file.write(res + '\\n')  # Write the result to the file and add a newline character\n"
   ]
  },
  {
   "cell_type": "code",
   "execution_count": null,
   "metadata": {},
   "outputs": [],
   "source": [
    "# Mình đang bỏ qua ràng buộc thời gian bay của drone (a sẽ bổ sung sau nhưng mình coi thời gian bay của drone là vô cùng đi)\n",
    "# Em đẩy code lên server r chạy nhé, để chạy tất cả các bộ em hỏi anh Tùng xem có chạy node nào không, không em đẩy lên luôn 3 node\n",
    "# Số thế hệ em để tạm 50 thôi, số cá thể là 100, số core chạy num_pro = 80  (cao hơn có thể bị sập)\n",
    "# Thời gian end_train em xem mấy bộ xem để giá trị hợp lý để có thể chạy được hết các yêu cầu (có thể là end_timewindow của request cuối cùng/ hoặc một giá trị đủ lớn 10000)\n",
    "# Phần heuristic chạy trên máy local cx được, phần này thì nhanh\n"
   ]
  }
 ],
 "metadata": {
  "kernelspec": {
   "display_name": "Python 3",
   "language": "python",
   "name": "python3"
  },
  "language_info": {
   "codemirror_mode": {
    "name": "ipython",
    "version": 3
   },
   "file_extension": ".py",
   "mimetype": "text/x-python",
   "name": "python",
   "nbconvert_exporter": "python",
   "pygments_lexer": "ipython3",
   "version": "3.12.0"
  }
 },
 "nbformat": 4,
 "nbformat_minor": 2
}
