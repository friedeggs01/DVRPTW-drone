{
 "cells": [
  {
   "cell_type": "code",
   "execution_count": null,
   "metadata": {},
   "outputs": [],
   "source": [
    "from gp.node.function import *\n",
    "from gp.node.terminal import *\n",
    "from gp.population.population import *\n",
    "from utils.function_operator import *\n",
    "from singleObjective.singleObjective import run_SingleObjective\n",
    "from deployment.evaluation import calFitness_three_policies\n",
    "from utils.crossover import *\n",
    "from utils.mutation import *\n",
    "import multiprocessing\n",
    "from data.read_data import *\n",
    "from utils.initialization import *\n",
    "    \n",
    "# Algorithm parameters\n",
    "num_pro = 10\n",
    "pop_size = 30\n",
    "max_gen = 20\n",
    "min_height = 2\n",
    "max_height = 8\n",
    "initialization_max_height = 4\n",
    "num_of_tour_particips = 2\n",
    "tournament_prob = 0.8\n",
    "pc = 0.8\n",
    "pm = 0.1\n",
    "\n",
    "# Vehicle parameters\n",
    "num_vehicle = 3\n",
    "truck_capacity = 1300\n",
    "drone_capacity = 10\n",
    "drone_endurance = 30\n",
    "\n",
    "# Reproduction operators\n",
    "crossover_operator_list = [crossover_branch_individual_swap]\n",
    "mutation_operator_list = [mutation_individual_branch_replace]\n",
    "# crossover_operator_list = []\n",
    "\n",
    "# Data parameters\n",
    "# read_data = Read_data()\n",
    "# request_list = read_data.read_request(r\"data\\benchmark_data\\100\\h100c101.csv\")\n",
    "data_path =r\"data\\benchmark_data\\100\\h100c101.csv\"\n",
    "alpha = 0.5\n",
    "duration = 10\n",
    "start_train = 0\n",
    "end_train = 1000\n",
    "end_test = 1000"
   ]
  },
  {
   "cell_type": "code",
   "execution_count": null,
   "metadata": {},
   "outputs": [],
   "source": [
    "# Node of tree\n",
    "function = [AddNode(), SubNode(), MulNode(), DivNode(), MaxNode(), MinNode()]\n",
    "terminal_decision = [MVC(), ATR(), SDR(), TWE(), WTR(), DDR(), DEM(), PN(), ST(), MD(), Const()]\n",
    "terminal_ordering = [ATR(), SDR(), TWE(), WTR(), DDR(), DEM(), PN(), ST(), MD(), Const()]\n",
    "terminal_choosing = [TTC(), DTC(), TRC(), PL(), NC(), MDV(), Const()]\n",
    "decision_tree = None\n",
    "ordering_tree = None\n",
    "choosing_tree = None\n",
    "indi_list = random_population_init(pop_size, min_height, initialization_max_height,\n",
    "                    function, terminal_decision, terminal_ordering, terminal_choosing, decision_tree, ordering_tree, choosing_tree)\n"
   ]
  },
  {
   "cell_type": "code",
   "execution_count": null,
   "metadata": {},
   "outputs": [],
   "source": [
    "result = run_SingleObjective(data_path, num_pro, \n",
    "                num_vehicle, truck_capacity, drone_capacity, drone_endurance,\n",
    "                indi_list,  \n",
    "                function, terminal_decision, terminal_ordering, terminal_choosing, \n",
    "                pop_size, max_gen,  min_height, max_height, initialization_max_height,  \n",
    "                num_of_tour_particips, tournament_prob, pc, pm,\n",
    "                crossover_operator_list, mutation_operator_list, calFitness_three_policies, \n",
    "                decision_tree, ordering_tree, choosing_tree, \n",
    "                alpha, duration, start_train, end_train, end_test)"
   ]
  },
  {
   "cell_type": "code",
   "execution_count": null,
   "metadata": {},
   "outputs": [],
   "source": [
    "# Hiện tại code chạy r, còn 2 hàm chuẩn hóa để a bổ sung sau\n",
    "# Em code thêm:\n",
    "######## 1. Hàm tạo file lưu kết quả: Lưu theo từng thế hệ để nếu có vẽ biểu đồ hội tụ (trong hàm train em tạo 1 dict để lưu quá trình tiến hóa và return dict này, sau đó return tại hàm run và lưu tại file test)\n",
    "######## 2. Em ghép các cell trong scipt này thành file test.py để chạy trên server\n",
    "######## 3. Tạo một list các đường dẫn để for cho nhanh (có thể chia theo thứ tự nào đó các bộ dữ liệu)"
   ]
  }
 ],
 "metadata": {
  "kernelspec": {
   "display_name": "Python 3",
   "language": "python",
   "name": "python3"
  },
  "language_info": {
   "codemirror_mode": {
    "name": "ipython",
    "version": 3
   },
   "file_extension": ".py",
   "mimetype": "text/x-python",
   "name": "python",
   "nbconvert_exporter": "python",
   "pygments_lexer": "ipython3",
   "version": "3.12.0"
  }
 },
 "nbformat": 4,
 "nbformat_minor": 2
}
