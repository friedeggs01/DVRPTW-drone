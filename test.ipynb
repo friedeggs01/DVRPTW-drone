{
      "cells": [
            {
                  "cell_type": "code",
                  "execution_count": 1,
                  "metadata": {},
                  "outputs": [],
                  "source": [
                        "from gp.node.function import *\n",
                        "from gp.node.terminal import *\n",
                        "from gp.population.population import *\n",
                        "from utils.function_operator import *\n",
                        "from singleObjective.singleObjective import run_SingleObjective\n",
                        "from deployment.evaluation import calFitness_three_policies\n",
                        "from utils.crossover import *\n",
                        "from utils.mutation import *\n",
                        "import multiprocessing\n",
                        "from data.read_data import *\n",
                        "from utils.initialization import *\n",
                        "    \n",
                        "multiprocessing.freeze_support()\n",
                        "num_pro = 10\n",
                        "num_train = 10\n",
                        "pop_size = 30\n",
                        "max_gen = 20\n",
                        "min_height = 2\n",
                        "max_height = 8\n",
                        "initialization_max_height = 4\n",
                        "num_of_tour_particips = 2\n",
                        "tournament_prob = 0.8\n",
                        "pc = 0.8\n",
                        "pm = 0.1\n",
                        "num_neigbor = 10\n",
                        "\n",
                        "crossover_operator_list = [crossover_branch_individual_swap, crossover_sub_tree_swap]\n",
                        "mutation_operator_list = [mutation_individual_branch_replace, mutation_individual_node_replace, \n",
                        "                          mutation_individual_branch_swap, mutation_value_decision]\n",
                        "neighborhood_size = 3\n",
                        "max_NFE = 500\n",
                        "read_data = Read_data()\n",
                        "request_list = read_data.read_request(r\"data\\benchmark_data\\h100c105.csv\")"
                  ]
            },
            {
                  "cell_type": "code",
                  "execution_count": 2,
                  "metadata": {},
                  "outputs": [
                        {
                              "ename": "NameError",
                              "evalue": "name 'data_path' is not defined",
                              "output_type": "error",
                              "traceback": [
                                    "\u001b[1;31m---------------------------------------------------------------------------\u001b[0m",
                                    "\u001b[1;31mNameError\u001b[0m                                 Traceback (most recent call last)",
                                    "Cell \u001b[1;32mIn[2], line 14\u001b[0m\n\u001b[0;32m      9\u001b[0m routing_tree \u001b[38;5;241m=\u001b[39m Const()\n\u001b[0;32m     11\u001b[0m pop \u001b[38;5;241m=\u001b[39m random_population_init(pop_size, min_height, initialization_max_height,\n\u001b[0;32m     12\u001b[0m                     function, terminal_decision, terminal_choosing, terminal_routing, decision_tree, routing_tree)\n\u001b[1;32m---> 14\u001b[0m result \u001b[38;5;241m=\u001b[39m run_SingleObjective(\u001b[43mdata_path\u001b[49m, num_pro, pop, num_train,  \n\u001b[0;32m     15\u001b[0m         function, terminal_decision, terminal_choosing, terminal_routing, \n\u001b[0;32m     16\u001b[0m         pop_size, max_gen,  min_height, max_height, initialization_max_height,  \n\u001b[0;32m     17\u001b[0m         num_of_tour_particips, tournament_prob, pc, pm,\n\u001b[0;32m     18\u001b[0m         crossover_operator_list, mutation_operator_list, calFitness_three_policies, \u001b[38;5;28;01mNone\u001b[39;00m, \u001b[38;5;241m1\u001b[39m)\n",
                                    "\u001b[1;31mNameError\u001b[0m: name 'data_path' is not defined"
                              ]
                        }
                  ],
                  "source": [
                        "\n",
                        "function = [AddNode(), SubNode(), MulNode(), DivNode(), MaxNode(), MinNode()]\n",
                        "terminal_decision = [ATR()]\n",
                        "terminal_choosing = [SDR(), DDR(), DCC(), CRS(), CDS(), TRC(), DRC(), DRB(), Const()]\n",
                        "terminal_routing = [Const()] \n",
                        "\n",
                        "\n",
                        "# khởi tạo cây như nào\n",
                        "decision_tree = ATR()\n",
                        "choosing_tree = None\n",
                        "routing_tree = Const()\n",
                        "\n",
                        "pop = random_population_init(pop_size, min_height, initialization_max_height,\n",
                        "                    function, terminal_decision, terminal_choosing, terminal_routing, decision_tree, routing_tree)\n",
                        "\n",
                        "result = run_SingleObjective(data_path, num_pro, pop, num_train,  \n",
                        "        function, terminal_decision, terminal_choosing, terminal_routing, \n",
                        "        pop_size, max_gen,  min_height, max_height, initialization_max_height,  \n",
                        "        num_of_tour_particips, tournament_prob, pc, pm,\n",
                        "        crossover_operator_list, mutation_operator_list, calFitness_three_policies, None, 1)"
                  ]
            },
            {
                  "cell_type": "code",
                  "execution_count": null,
                  "metadata": {},
                  "outputs": [
                        {
                              "name": "stdout",
                              "output_type": "stream",
                              "text": [
                                    "routes:  [1, 2, 3, 4, 8, 5, 6, 7, 1000, 4, 8]\n",
                                    "([1, 2, 3, 4, 8, 5, 6, 7], [[3, 4, 8], [4, 8, 5]])\n"
                              ]
                        }
                  ],
                  "source": [
                        "def is_sublist(main_list, sublist):\n",
                        "    sublist_len = len(sublist)\n",
                        "    return any(main_list[i:i + sublist_len] == sublist for i in range(len(main_list) - sublist_len + 1))\n",
                        "\n",
                        "def decode_route(routes):\n",
                        "    # Extract the route of truck from encode\n",
                        "    index_1000 = routes.index(1000)\n",
                        "    print(\"routes: \", routes)\n",
                        "    # đoạn này phải check thêm là nếu không có number after 1000\n",
                        "    list_after_1000 = routes[index_1000 + 1:]\n",
                        "    truck_route = [num for num in routes[:index_1000] if num != list_after_1000]\n",
                        "    drone_routes = []\n",
                        "    \n",
                        "    is_sublist(routes, drone_routes)\n",
                        "    \n",
                        "    # Extract the route of drone from encode\n",
                        "    for i in range(len(list_after_1000)):\n",
                        "        index_after_number = routes.index(list_after_1000[i])\n",
                        "        drone_route = []\n",
                        "        if index_after_number > 0:\n",
                        "            drone_route.append(routes[index_after_number - 1])\n",
                        "        drone_route.append(routes[index_after_number])\n",
                        "        if index_after_number < len(routes) - 1:\n",
                        "            drone_route.append(routes[index_after_number + 1])\n",
                        "        drone_routes.append(drone_route)\n",
                        "    return truck_route, drone_routes\n",
                        "\n",
                        "routes = [1, 2, 3, 4, 8, 5, 6, 7, 1000, 4, 8]\n",
                        "print(decode_route(routes))"
                  ]
            },
            {
                  "cell_type": "code",
                  "execution_count": 3,
                  "metadata": {},
                  "outputs": [
                        {
                              "name": "stdout",
                              "output_type": "stream",
                              "text": [
                                    "[10, 1, 3, 4, 5, 6, 7, 8]\n"
                              ]
                        }
                  ],
                  "source": [
                        "a = [1,3,4,5,6,7,8]\n",
                        "a.insert(, 10)\n",
                        "print(a)"
                  ]
            }
      ],
      "metadata": {
            "kernelspec": {
                  "display_name": "Python 3",
                  "language": "python",
                  "name": "python3"
            },
            "language_info": {
                  "codemirror_mode": {
                        "name": "ipython",
                        "version": 3
                  },
                  "file_extension": ".py",
                  "mimetype": "text/x-python",
                  "name": "python",
                  "nbconvert_exporter": "python",
                  "pygments_lexer": "ipython3",
                  "version": "3.12.0"
            }
      },
      "nbformat": 4,
      "nbformat_minor": 2
}
