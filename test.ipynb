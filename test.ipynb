{
 "cells": [
  {
   "cell_type": "code",
   "execution_count": 1,
   "metadata": {},
   "outputs": [],
   "source": [
    "from gp.node.function import *\n",
    "from gp.node.terminal import *\n",
    "from gp.population.population import *\n",
    "from utils.function_operator import *\n",
    "from singleObjective.singleObjective import run_SingleObjective\n",
    "from deployment.evaluation import calFitness_three_policies\n",
    "from utils.crossover import *\n",
    "from utils.mutation import *\n",
    "import multiprocessing\n",
    "from data.read_data import *\n",
    "from utils.initialization import *\n",
    "    \n",
    "multiprocessing.freeze_support()\n",
    "num_pro = 10\n",
    "num_train = 10\n",
    "pop_size = 30\n",
    "max_gen = 20\n",
    "min_height = 2\n",
    "max_height = 8\n",
    "initialization_max_height = 4\n",
    "num_of_tour_particips = 2\n",
    "tournament_prob = 0.8\n",
    "pc = 0.8\n",
    "pm = 0.1\n",
    "num_neigbor = 10\n",
    "\n",
    "crossover_operator_list = [crossover_branch_individual_swap, crossover_sub_tree_swap]\n",
    "mutation_operator_list = [mutation_individual_branch_replace, mutation_individual_node_replace, mutation_individual_branch_swap, mutation_value_decision]\n",
    "neighborhood_size = 3\n",
    "max_NFE = 500\n",
    "data_set = [\"data/C1_2_1.TXT\"]\n",
    "for data_path in data_set:\n",
    "    reader = Read_data()\n",
    "    network, requests = reader.read(data_path)"
   ]
  },
  {
   "cell_type": "code",
   "execution_count": 2,
   "metadata": {},
   "outputs": [
    {
     "name": "stdout",
     "output_type": "stream",
     "text": [
      "Số request: 9\n",
      "=====value_of_choosing_gp[i]=======  0.7479175848947188\n",
      "=====value_of_choosing_gp[i]=======  0.7479175848947188\n",
      "=====value_of_choosing_gp[i]=======  0.7479175848947188\n",
      "=====value_of_choosing_gp[i]=======  0.7479175848947188\n",
      "=====value_of_choosing_gp[i]=======  0.7479175848947188\n",
      "request.customer_id:  1\n",
      "network.routes[veh_with_highest_value]:  [1000]\n",
      "network.routes[veh_with_highest_value] after insert:  [1, 1000]\n"
     ]
    },
    {
     "ename": "TypeError",
     "evalue": "must be real number, not NoneType",
     "output_type": "error",
     "traceback": [
      "\u001b[1;31m---------------------------------------------------------------------------\u001b[0m",
      "\u001b[1;31mTypeError\u001b[0m                                 Traceback (most recent call last)",
      "Cell \u001b[1;32mIn[2], line 14\u001b[0m\n\u001b[0;32m      9\u001b[0m routing_tree \u001b[38;5;241m=\u001b[39m Const()\n\u001b[0;32m     11\u001b[0m pop \u001b[38;5;241m=\u001b[39m random_population_init(pop_size, min_height, initialization_max_height,\n\u001b[0;32m     12\u001b[0m                     function, terminal_decision, terminal_choosing, terminal_routing, decision_tree, routing_tree)\n\u001b[1;32m---> 14\u001b[0m result \u001b[38;5;241m=\u001b[39m \u001b[43mrun_SingleObjective\u001b[49m\u001b[43m(\u001b[49m\u001b[43mdata_path\u001b[49m\u001b[43m,\u001b[49m\u001b[43m \u001b[49m\u001b[43mnum_pro\u001b[49m\u001b[43m,\u001b[49m\u001b[43m \u001b[49m\u001b[43mpop\u001b[49m\u001b[43m,\u001b[49m\u001b[43m \u001b[49m\u001b[43mnum_train\u001b[49m\u001b[43m,\u001b[49m\u001b[43m  \u001b[49m\n\u001b[0;32m     15\u001b[0m \u001b[43m        \u001b[49m\u001b[43mfunction\u001b[49m\u001b[43m,\u001b[49m\u001b[43m \u001b[49m\u001b[43mterminal_decision\u001b[49m\u001b[43m,\u001b[49m\u001b[43m \u001b[49m\u001b[43mterminal_choosing\u001b[49m\u001b[43m,\u001b[49m\u001b[43m \u001b[49m\u001b[43mterminal_routing\u001b[49m\u001b[43m,\u001b[49m\u001b[43m \u001b[49m\n\u001b[0;32m     16\u001b[0m \u001b[43m        \u001b[49m\u001b[43mpop_size\u001b[49m\u001b[43m,\u001b[49m\u001b[43m \u001b[49m\u001b[43mmax_gen\u001b[49m\u001b[43m,\u001b[49m\u001b[43m  \u001b[49m\u001b[43mmin_height\u001b[49m\u001b[43m,\u001b[49m\u001b[43m \u001b[49m\u001b[43mmax_height\u001b[49m\u001b[43m,\u001b[49m\u001b[43m \u001b[49m\u001b[43minitialization_max_height\u001b[49m\u001b[43m,\u001b[49m\u001b[43m  \u001b[49m\n\u001b[0;32m     17\u001b[0m \u001b[43m        \u001b[49m\u001b[43mnum_of_tour_particips\u001b[49m\u001b[43m,\u001b[49m\u001b[43m \u001b[49m\u001b[43mtournament_prob\u001b[49m\u001b[43m,\u001b[49m\u001b[43m \u001b[49m\u001b[43mpc\u001b[49m\u001b[43m,\u001b[49m\u001b[43m \u001b[49m\u001b[43mpm\u001b[49m\u001b[43m,\u001b[49m\n\u001b[0;32m     18\u001b[0m \u001b[43m        \u001b[49m\u001b[43mcrossover_operator_list\u001b[49m\u001b[43m,\u001b[49m\u001b[43m \u001b[49m\u001b[43mmutation_operator_list\u001b[49m\u001b[43m,\u001b[49m\u001b[43m \u001b[49m\u001b[43mcalFitness_three_policies\u001b[49m\u001b[43m,\u001b[49m\u001b[43m \u001b[49m\u001b[38;5;28;43;01mNone\u001b[39;49;00m\u001b[43m,\u001b[49m\u001b[43m \u001b[49m\u001b[38;5;241;43m1\u001b[39;49m\u001b[43m)\u001b[49m\n",
      "File \u001b[1;32md:\\HOCDIBANTRE\\DVRPTW-drone-stochastic-demand\\singleObjective\\singleObjective.py:114\u001b[0m, in \u001b[0;36mrun_SingleObjective\u001b[1;34m(data_path, processing_num, indi_list, num_train, functions, terminal_decision, terminal_choosing, terminal_routing, pop_size, max_gen, min_height, max_height, initialization_max_height, num_of_tour_particips, tournament_prob, crossover_rate, mutation_rate, crossover_operator_list, mutation_operator_list, calFitness, decision_tree, alpha)\u001b[0m\n\u001b[0;32m    111\u001b[0m     \u001b[38;5;28;01melse\u001b[39;00m: \n\u001b[0;32m    112\u001b[0m         request_test\u001b[38;5;241m.\u001b[39mappend(request)\n\u001b[1;32m--> 114\u001b[0m best \u001b[38;5;241m=\u001b[39m \u001b[43mtrainSingleObjective\u001b[49m\u001b[43m(\u001b[49m\u001b[43mprocessing_num\u001b[49m\u001b[43m,\u001b[49m\u001b[43m \u001b[49m\u001b[43mindi_list\u001b[49m\u001b[43m,\u001b[49m\u001b[43m  \u001b[49m\u001b[43mnetwork\u001b[49m\u001b[43m,\u001b[49m\u001b[43m \u001b[49m\u001b[43mrequest_train\u001b[49m\u001b[43m,\u001b[49m\n\u001b[0;32m    115\u001b[0m \u001b[43m                \u001b[49m\u001b[43mfunctions\u001b[49m\u001b[43m,\u001b[49m\u001b[43m \u001b[49m\u001b[43mterminal_decision\u001b[49m\u001b[43m,\u001b[49m\u001b[43mterminal_choosing\u001b[49m\u001b[43m,\u001b[49m\u001b[43m  \u001b[49m\u001b[43mterminal_routing\u001b[49m\u001b[43m,\u001b[49m\u001b[43m \u001b[49m\n\u001b[0;32m    116\u001b[0m \u001b[43m                \u001b[49m\u001b[43mpop_size\u001b[49m\u001b[43m,\u001b[49m\u001b[43m \u001b[49m\u001b[43mmax_gen\u001b[49m\u001b[43m,\u001b[49m\u001b[43m  \u001b[49m\u001b[43mmin_height\u001b[49m\u001b[43m,\u001b[49m\u001b[43m \u001b[49m\u001b[43mmax_height\u001b[49m\u001b[43m,\u001b[49m\u001b[43m \u001b[49m\u001b[43minitialization_max_height\u001b[49m\u001b[43m,\u001b[49m\u001b[43m  \u001b[49m\n\u001b[0;32m    117\u001b[0m \u001b[43m                \u001b[49m\u001b[43mnum_of_tour_particips\u001b[49m\u001b[43m,\u001b[49m\u001b[43m \u001b[49m\u001b[43mtournament_prob\u001b[49m\u001b[43m,\u001b[49m\u001b[43m \u001b[49m\u001b[43mcrossover_rate\u001b[49m\u001b[43m,\u001b[49m\u001b[43m \u001b[49m\u001b[43mmutation_rate\u001b[49m\u001b[43m,\u001b[49m\n\u001b[0;32m    118\u001b[0m \u001b[43m            \u001b[49m\u001b[43mcrossover_operator_list\u001b[49m\u001b[43m,\u001b[49m\u001b[43m \u001b[49m\u001b[43mmutation_operator_list\u001b[49m\u001b[43m,\u001b[49m\u001b[43m \u001b[49m\u001b[43mcalFitness\u001b[49m\u001b[43m,\u001b[49m\u001b[43m \u001b[49m\u001b[43mdecision_tree\u001b[49m\u001b[43m,\u001b[49m\u001b[43m \u001b[49m\u001b[43malpha\u001b[49m\u001b[43m)\u001b[49m\n\u001b[0;32m    120\u001b[0m normal_reject, normal_cost, reject, cost \u001b[38;5;241m=\u001b[39m calFitness(best, network, request_test)\n\u001b[0;32m    121\u001b[0m \u001b[38;5;28mprint\u001b[39m(normal_reject, normal_cost, reject, cost)\n",
      "File \u001b[1;32md:\\HOCDIBANTRE\\DVRPTW-drone-stochastic-demand\\singleObjective\\singleObjective.py:75\u001b[0m, in \u001b[0;36mtrainSingleObjective\u001b[1;34m(processing_number, indi_list, network, request_list, functions, terminal_decision, terminal_choosing, terminal_routing, pop_size, max_gen, min_height, max_height, initialization_max_height, num_of_tour_particips, tournament_prob, crossover_rate, mutation_rate, crossover_operator_list, mutation_operator_list, calFitness, choosing_tree, alpha)\u001b[0m\n\u001b[0;32m     68\u001b[0m \u001b[38;5;66;03m# for indi in pop.indivs:\u001b[39;00m\n\u001b[0;32m     69\u001b[0m \u001b[38;5;66;03m#     arg.append((indi, network, request_list))\u001b[39;00m\n\u001b[0;32m     70\u001b[0m \u001b[38;5;66;03m# print(\"------arg: \", arg)\u001b[39;00m\n\u001b[0;32m     71\u001b[0m \u001b[38;5;66;03m# result = pool.starmap(calFitness, arg)\u001b[39;00m\n\u001b[0;32m     72\u001b[0m \u001b[38;5;66;03m# for indi, value in zip(pop.indivs, result):\u001b[39;00m\n\u001b[0;32m     73\u001b[0m \u001b[38;5;66;03m#     indi.objectives = value\u001b[39;00m\n\u001b[0;32m     74\u001b[0m \u001b[38;5;28;01mfor\u001b[39;00m indi \u001b[38;5;129;01min\u001b[39;00m pop\u001b[38;5;241m.\u001b[39mindivs:\n\u001b[1;32m---> 75\u001b[0m     indi\u001b[38;5;241m.\u001b[39mobjectives \u001b[38;5;241m=\u001b[39m \u001b[43mcalFitness\u001b[49m\u001b[43m(\u001b[49m\u001b[43mindi\u001b[49m\u001b[43m,\u001b[49m\u001b[43m \u001b[49m\u001b[43mnetwork\u001b[49m\u001b[43m,\u001b[49m\u001b[43m \u001b[49m\u001b[43mrequest_list\u001b[49m\u001b[43m)\u001b[49m\n\u001b[0;32m     76\u001b[0m \u001b[38;5;28mprint\u001b[39m(\u001b[38;5;124m\"\u001b[39m\u001b[38;5;124mKhởi tạo xong \u001b[39m\u001b[38;5;124m\"\u001b[39m)  \n\u001b[0;32m     78\u001b[0m best \u001b[38;5;241m=\u001b[39m pop\u001b[38;5;241m.\u001b[39mtake_best(alpha)\n",
      "File \u001b[1;32md:\\HOCDIBANTRE\\DVRPTW-drone-stochastic-demand\\deployment\\evaluation.py:64\u001b[0m, in \u001b[0;36mcalFitness_three_policies\u001b[1;34m(indi, network, request_list)\u001b[0m\n\u001b[0;32m     55\u001b[0m \u001b[38;5;28mprint\u001b[39m(\u001b[38;5;124m\"\u001b[39m\u001b[38;5;124mnetwork.routes[veh_with_highest_value] after insert: \u001b[39m\u001b[38;5;124m\"\u001b[39m, network\u001b[38;5;241m.\u001b[39mroutes[veh_with_highest_value])\n\u001b[0;32m     57\u001b[0m \u001b[38;5;66;03m# network.update_timeserving()\u001b[39;00m\n\u001b[0;32m     58\u001b[0m \u001b[38;5;66;03m# if (len(network.routes[veh_with_highest_value]) == 1): \u001b[39;00m\n\u001b[0;32m     59\u001b[0m \u001b[38;5;66;03m#     request.serving_start = network.links[0][network.routes[veh_with_highest_value][0]] / network.trucks[veh_with_highest_value].velocity\u001b[39;00m\n\u001b[0;32m     60\u001b[0m \u001b[38;5;66;03m# if (len(network.routes[veh_with_highest_value]) == 2):\u001b[39;00m\n\u001b[0;32m     61\u001b[0m \u001b[38;5;66;03m#     request.serving_start = (network.links[0][network.routes[veh_with_highest_value][0]] + network.links[network.routes[veh_with_highest_value][0]][network.routes[veh_with_highest_value][1]]) / network.trucks[veh_with_highest_value].velocity\u001b[39;00m\n\u001b[0;32m     62\u001b[0m \u001b[38;5;66;03m# request.serving_end = request.serving_start + request.service_time\u001b[39;00m\n\u001b[1;32m---> 64\u001b[0m \u001b[38;5;28;01mfor\u001b[39;00m t \u001b[38;5;129;01min\u001b[39;00m \u001b[38;5;28mrange\u001b[39m(\u001b[43mmath\u001b[49m\u001b[38;5;241;43m.\u001b[39;49m\u001b[43mfloor\u001b[49m\u001b[43m(\u001b[49m\u001b[43mrequest\u001b[49m\u001b[38;5;241;43m.\u001b[39;49m\u001b[43mserving_start\u001b[49m\u001b[43m)\u001b[49m, math\u001b[38;5;241m.\u001b[39mceil(request\u001b[38;5;241m.\u001b[39mserving_end)):\n\u001b[0;32m     65\u001b[0m     \u001b[38;5;28mprint\u001b[39m(\u001b[38;5;124m\"\u001b[39m\u001b[38;5;124mnetwork.trucks[veh_with_highest_value].remain_capacity[t]: \u001b[39m\u001b[38;5;124m\"\u001b[39m, network\u001b[38;5;241m.\u001b[39mtrucks[veh_with_highest_value]\u001b[38;5;241m.\u001b[39mremain_capacity[t])\n\u001b[0;32m     66\u001b[0m     network\u001b[38;5;241m.\u001b[39mtrucks[veh_with_highest_value]\u001b[38;5;241m.\u001b[39mremain_capacity[t] \u001b[38;5;241m-\u001b[39m\u001b[38;5;241m=\u001b[39m request\u001b[38;5;241m.\u001b[39mcustomer_demand\n",
      "\u001b[1;31mTypeError\u001b[0m: must be real number, not NoneType"
     ]
    }
   ],
   "source": [
    "\n",
    "function = [AddNode(), SubNode(), MulNode(), DivNode(), MaxNode(), MinNode()]\n",
    "terminal_decision = [ATR()]\n",
    "terminal_choosing = [SDR(), DDR(), DCC(), CRS(), CDS(), TRC(), DRC(), DRB(), Const()]\n",
    "terminal_routing = [Const()] \n",
    "\n",
    "# khởi tạo cây như nào\n",
    "decision_tree = ATR()\n",
    "choosing_tree = None\n",
    "routing_tree = Const()\n",
    "\n",
    "pop = random_population_init(pop_size, min_height, initialization_max_height,\n",
    "                    function, terminal_decision, terminal_choosing, terminal_routing, decision_tree, routing_tree)\n",
    "\n",
    "result = run_SingleObjective(data_path, num_pro, pop, num_train,  \n",
    "        function, terminal_decision, terminal_choosing, terminal_routing, \n",
    "        pop_size, max_gen,  min_height, max_height, initialization_max_height,  \n",
    "        num_of_tour_particips, tournament_prob, pc, pm,\n",
    "        crossover_operator_list, mutation_operator_list, calFitness_three_policies, None, 1)"
   ]
  }
 ],
 "metadata": {
  "kernelspec": {
   "display_name": "Python 3",
   "language": "python",
   "name": "python3"
  },
  "language_info": {
   "codemirror_mode": {
    "name": "ipython",
    "version": 3
   },
   "file_extension": ".py",
   "mimetype": "text/x-python",
   "name": "python",
   "nbconvert_exporter": "python",
   "pygments_lexer": "ipython3",
   "version": "3.11.6"
  }
 },
 "nbformat": 4,
 "nbformat_minor": 2
}
