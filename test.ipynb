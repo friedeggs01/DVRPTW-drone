{
 "cells": [
  {
   "cell_type": "code",
   "execution_count": 1,
   "metadata": {},
   "outputs": [
    {
     "name": "stdout",
     "output_type": "stream",
     "text": [
      "5 200 60 30\n",
      "6 26\n",
      "1\n",
      "0 70 70 0 0 1351 0 0\n"
     ]
    },
    {
     "ename": "TypeError",
     "evalue": "Request.__init__() missing 1 required positional argument: 'service_time'",
     "output_type": "error",
     "traceback": [
      "\u001b[1;31m---------------------------------------------------------------------------\u001b[0m",
      "\u001b[1;31mTypeError\u001b[0m                                 Traceback (most recent call last)",
      "Cell \u001b[1;32mIn[1], line 34\u001b[0m\n\u001b[0;32m     32\u001b[0m \u001b[38;5;28;01mfor\u001b[39;00m data_path \u001b[38;5;129;01min\u001b[39;00m data_set:\n\u001b[0;32m     33\u001b[0m     reader \u001b[38;5;241m=\u001b[39m Read_data()\n\u001b[1;32m---> 34\u001b[0m     network, requests \u001b[38;5;241m=\u001b[39m \u001b[43mreader\u001b[49m\u001b[38;5;241;43m.\u001b[39;49m\u001b[43mread\u001b[49m\u001b[43m(\u001b[49m\u001b[43mdata_path\u001b[49m\u001b[43m)\u001b[49m\n",
      "File \u001b[1;32md:\\HOCDIBANTRE\\DVRPTW-drone-stochastic-demand\\data\\read_data.py:32\u001b[0m, in \u001b[0;36mRead_data.read\u001b[1;34m(self, PATH)\u001b[0m\n\u001b[0;32m     29\u001b[0m num, x, y, demand, tw_start, tw_end, service_time, drone_served \u001b[38;5;241m=\u001b[39m \u001b[38;5;28mmap\u001b[39m(\u001b[38;5;28mint\u001b[39m,\u001b[38;5;28mall\u001b[39m[i\u001b[38;5;241m+\u001b[39m\u001b[38;5;241m3\u001b[39m]\u001b[38;5;241m.\u001b[39mstrip()\u001b[38;5;241m.\u001b[39msplit())\n\u001b[0;32m     30\u001b[0m \u001b[38;5;28mprint\u001b[39m(num, x, y, demand, tw_start, tw_end, service_time, drone_served)\n\u001b[1;32m---> 32\u001b[0m req \u001b[38;5;241m=\u001b[39m \u001b[43mRequest\u001b[49m\u001b[43m(\u001b[49m\u001b[43mcustomer_id\u001b[49m\u001b[38;5;241;43m=\u001b[39;49m\u001b[43m \u001b[49m\u001b[38;5;28;43mint\u001b[39;49m\u001b[43m(\u001b[49m\u001b[43mnum\u001b[49m\u001b[43m)\u001b[49m\u001b[43m,\u001b[49m\u001b[43mx\u001b[49m\u001b[38;5;241;43m=\u001b[39;49m\u001b[43m \u001b[49m\u001b[43mx\u001b[49m\u001b[43m,\u001b[49m\u001b[43m \u001b[49m\u001b[43my\u001b[49m\u001b[38;5;241;43m=\u001b[39;49m\u001b[43m \u001b[49m\u001b[43my\u001b[49m\u001b[43m,\u001b[49m\u001b[43m \u001b[49m\u001b[43mcustomer_demand\u001b[49m\u001b[38;5;241;43m=\u001b[39;49m\u001b[43m \u001b[49m\u001b[43mdemand\u001b[49m\u001b[43m,\u001b[49m\u001b[43marrival_time\u001b[49m\u001b[38;5;241;43m=\u001b[39;49m\u001b[43marrival_time\u001b[49m\u001b[43m,\u001b[49m\u001b[43m \u001b[49m\u001b[43mtw_start\u001b[49m\u001b[38;5;241;43m=\u001b[39;49m\u001b[43m \u001b[49m\u001b[43mtw_start\u001b[49m\u001b[43m,\u001b[49m\u001b[43m \u001b[49m\u001b[43mtw_end\u001b[49m\u001b[38;5;241;43m=\u001b[39;49m\u001b[43m \u001b[49m\u001b[43mtw_end\u001b[49m\u001b[43m,\u001b[49m\u001b[43m \u001b[49m\u001b[43mearliness\u001b[49m\u001b[38;5;241;43m=\u001b[39;49m\u001b[43mtw_start\u001b[49m\u001b[38;5;241;43m-\u001b[39;49m\u001b[38;5;241;43m60\u001b[39;49m\u001b[43m,\u001b[49m\u001b[43m \u001b[49m\u001b[43mlateness\u001b[49m\u001b[38;5;241;43m=\u001b[39;49m\u001b[43mtw_end\u001b[49m\u001b[38;5;241;43m+\u001b[39;49m\u001b[38;5;241;43m60\u001b[39;49m\u001b[43m,\u001b[49m\u001b[43m \u001b[49m\u001b[43mdrone_serve\u001b[49m\u001b[38;5;241;43m=\u001b[39;49m\u001b[43mdrone_served\u001b[49m\u001b[43m)\u001b[49m\n\u001b[0;32m     33\u001b[0m requests\u001b[38;5;241m.\u001b[39mappend(req) \n\u001b[0;32m     34\u001b[0m node \u001b[38;5;241m=\u001b[39m Node(\u001b[38;5;28mid\u001b[39m \u001b[38;5;241m=\u001b[39m \u001b[38;5;28mint\u001b[39m(num), x\u001b[38;5;241m=\u001b[39mx, y\u001b[38;5;241m=\u001b[39my)\n",
      "\u001b[1;31mTypeError\u001b[0m: Request.__init__() missing 1 required positional argument: 'service_time'"
     ]
    }
   ],
   "source": [
    "from gp.node.function import *\n",
    "from gp.node.terminal import *\n",
    "from gp.population.population import *\n",
    "from utils.function_operator import *\n",
    "from singleObjective.singleObjective import run_SingleObjective\n",
    "from deployment.evaluation import calFitness_three_policies\n",
    "from utils.crossover import *\n",
    "from utils.mutation import *\n",
    "import multiprocessing\n",
    "from data.read_data import *\n",
    "from utils.initialization import *\n",
    "    \n",
    "multiprocessing.freeze_support()\n",
    "num_pro = 10\n",
    "num_train = 10\n",
    "pop_size = 30\n",
    "max_gen = 20\n",
    "min_height = 2\n",
    "max_height = 8\n",
    "initialization_max_height = 4\n",
    "num_of_tour_particips = 2\n",
    "tournament_prob = 0.8\n",
    "pc = 0.8\n",
    "pm = 0.1\n",
    "num_neigbor = 10\n",
    "\n",
    "crossover_operator_list = [crossover_branch_individual_swap, crossover_sub_tree_swap]\n",
    "mutation_operator_list = [mutation_individual_branch_replace, mutation_individual_node_replace, mutation_individual_branch_swap, mutation_value_decision]\n",
    "neighborhood_size = 3 ##REVIEW - for what\n",
    "max_NFE = 500\n",
    "data_set = [\"data/C1_2_1.TXT\"]\n",
    "for data_path in data_set:\n",
    "    reader = Read_data()\n",
    "    network, requests = reader.read(data_path)"
   ]
  },
  {
   "cell_type": "code",
   "execution_count": null,
   "metadata": {},
   "outputs": [],
   "source": [
    "\n",
    "function = [AddNode(), SubNode(), MulNode(), DivNode(), MaxNode(), MinNode()]\n",
    "terminal_decision = [ATR(), Const()]\n",
    "\n",
    "terminal_choosing = [SDR(), DDR(), DCC(), CRS(), CDS(), TRC(), DRC(), DRB(), Const()]\n",
    "terminal_routing = [Const()] ##REVIEW - chưa cần cây routing vì đang xử lý bằng heuristic insertion\n",
    "\n",
    "#TODO - khởi tạo cây như nào\n",
    "decision_tree = Const()\n",
    "routing_tree = ...\n",
    "\n",
    "pop = random_population_init(pop_size, min_height, initialization_max_height,\n",
    "                    function, terminal_decision, terminal_choosing, terminal_routing, decision_tree, routing_tree)\n",
    "\n",
    "result = run_SingleObjective(data_path, num_pro, pop, num_train,  \n",
    "        function, terminal_decision, terminal_choosing, terminal_routing, \n",
    "        pop_size, max_gen,  min_height, max_height, initialization_max_height,  \n",
    "        num_of_tour_particips, tournament_prob, pc, pm,\n",
    "        crossover_operator_list, mutation_operator_list, calFitness_three_policies, None, 1)"
   ]
  }
 ],
 "metadata": {
  "kernelspec": {
   "display_name": "Python 3",
   "language": "python",
   "name": "python3"
  },
  "language_info": {
   "codemirror_mode": {
    "name": "ipython",
    "version": 3
   },
   "file_extension": ".py",
   "mimetype": "text/x-python",
   "name": "python",
   "nbconvert_exporter": "python",
   "pygments_lexer": "ipython3",
   "version": "3.11.6"
  }
 },
 "nbformat": 4,
 "nbformat_minor": 2
}
