{
 "cells": [
  {
   "cell_type": "code",
   "execution_count": 1,
   "metadata": {},
   "outputs": [],
   "source": [
    "from gp.node.function import *\n",
    "from gp.node.terminal import *\n",
    "from gp.population.population import *\n",
    "from utils.function_operator import *\n",
    "from singleObjective.singleObjective import run_SingleObjective\n",
    "from deployment.evaluation import calFitness_three_policies\n",
    "from utils.crossover import *\n",
    "from utils.mutation import *\n",
    "import multiprocessing\n",
    "from data.read_data import *\n",
    "from utils.initialization import *\n",
    "    \n",
    "# Algorithm parameters\n",
    "num_pro = 10\n",
    "pop_size = 30\n",
    "max_gen = 20\n",
    "min_height = 2\n",
    "max_height = 8\n",
    "initialization_max_height = 4\n",
    "num_of_tour_particips = 2\n",
    "tournament_prob = 0.8\n",
    "pc = 0.8\n",
    "pm = 0.1\n",
    "\n",
    "# Vehicle parameters\n",
    "num_vehicle = 3\n",
    "truck_capacity = 1300\n",
    "drone_capacity = 10\n",
    "drone_endurance = 30\n",
    "\n",
    "# Reproduction operators\n",
    "crossover_operator_list = [crossover_branch_individual_swap]\n",
    "mutation_operator_list = [mutation_individual_branch_replace]\n",
    "# crossover_operator_list = []\n",
    "\n",
    "# Data parameters\n",
    "# read_data = Read_data()\n",
    "# request_list = read_data.read_request(r\"data\\benchmark_data\\100\\h100c101.csv\")\n",
    "data_path =r\"data\\benchmark_data\\100\\h100c101.csv\"\n",
    "alpha = 0.5\n",
    "duration = 10\n",
    "start_train = 0\n",
    "end_train = 1000\n",
    "end_test = 1000"
   ]
  },
  {
   "cell_type": "code",
   "execution_count": 2,
   "metadata": {},
   "outputs": [],
   "source": [
    "# Node of tree\n",
    "function = [AddNode(), SubNode(), MulNode(), DivNode(), MaxNode(), MinNode()]\n",
    "terminal_decision = [MVC(), ATR(), SDR(), TWE(), WTR(), DDR(), DEM(), PN(), ST(), MD(), Const()]\n",
    "terminal_ordering = [ATR(), SDR(), TWE(), WTR(), DDR(), DEM(), PN(), ST(), MD(), Const()]\n",
    "terminal_choosing = [TTC(), DTC(), TRC(), PL(), NC(), MDV(), Const()]\n",
    "\n",
    "decision_tree = None\n",
    "ordering_tree = None\n",
    "choosing_tree = None\n",
    "indi_list = random_population_init(pop_size, min_height, initialization_max_height,\n",
    "                    function, terminal_decision, terminal_ordering, terminal_choosing, decision_tree, ordering_tree, choosing_tree)\n"
   ]
  },
  {
   "cell_type": "code",
   "execution_count": 3,
   "metadata": {},
   "outputs": [
    {
     "name": "stdout",
     "output_type": "stream",
     "text": [
      "The he 0: [1131.7433075984768, 26]\n",
      "52\n"
     ]
    },
    {
     "ename": "AttributeError",
     "evalue": "'Choosing' object has no attribute 'r'",
     "output_type": "error",
     "traceback": [
      "\u001b[1;31m---------------------------------------------------------------------------\u001b[0m",
      "\u001b[1;31mAttributeError\u001b[0m                            Traceback (most recent call last)",
      "Cell \u001b[1;32mIn[3], line 1\u001b[0m\n\u001b[1;32m----> 1\u001b[0m result \u001b[38;5;241m=\u001b[39m \u001b[43mrun_SingleObjective\u001b[49m\u001b[43m(\u001b[49m\u001b[43mdata_path\u001b[49m\u001b[43m,\u001b[49m\u001b[43m \u001b[49m\u001b[43mnum_pro\u001b[49m\u001b[43m,\u001b[49m\u001b[43m \u001b[49m\n\u001b[0;32m      2\u001b[0m \u001b[43m                \u001b[49m\u001b[43mnum_vehicle\u001b[49m\u001b[43m,\u001b[49m\u001b[43m \u001b[49m\u001b[43mtruck_capacity\u001b[49m\u001b[43m,\u001b[49m\u001b[43m \u001b[49m\u001b[43mdrone_capacity\u001b[49m\u001b[43m,\u001b[49m\u001b[43m \u001b[49m\u001b[43mdrone_endurance\u001b[49m\u001b[43m,\u001b[49m\n\u001b[0;32m      3\u001b[0m \u001b[43m                \u001b[49m\u001b[43mindi_list\u001b[49m\u001b[43m,\u001b[49m\u001b[43m  \u001b[49m\n\u001b[0;32m      4\u001b[0m \u001b[43m                \u001b[49m\u001b[43mfunction\u001b[49m\u001b[43m,\u001b[49m\u001b[43m \u001b[49m\u001b[43mterminal_decision\u001b[49m\u001b[43m,\u001b[49m\u001b[43m \u001b[49m\u001b[43mterminal_ordering\u001b[49m\u001b[43m,\u001b[49m\u001b[43m \u001b[49m\u001b[43mterminal_choosing\u001b[49m\u001b[43m,\u001b[49m\u001b[43m \u001b[49m\n\u001b[0;32m      5\u001b[0m \u001b[43m                \u001b[49m\u001b[43mpop_size\u001b[49m\u001b[43m,\u001b[49m\u001b[43m \u001b[49m\u001b[43mmax_gen\u001b[49m\u001b[43m,\u001b[49m\u001b[43m  \u001b[49m\u001b[43mmin_height\u001b[49m\u001b[43m,\u001b[49m\u001b[43m \u001b[49m\u001b[43mmax_height\u001b[49m\u001b[43m,\u001b[49m\u001b[43m \u001b[49m\u001b[43minitialization_max_height\u001b[49m\u001b[43m,\u001b[49m\u001b[43m  \u001b[49m\n\u001b[0;32m      6\u001b[0m \u001b[43m                \u001b[49m\u001b[43mnum_of_tour_particips\u001b[49m\u001b[43m,\u001b[49m\u001b[43m \u001b[49m\u001b[43mtournament_prob\u001b[49m\u001b[43m,\u001b[49m\u001b[43m \u001b[49m\u001b[43mpc\u001b[49m\u001b[43m,\u001b[49m\u001b[43m \u001b[49m\u001b[43mpm\u001b[49m\u001b[43m,\u001b[49m\n\u001b[0;32m      7\u001b[0m \u001b[43m                \u001b[49m\u001b[43mcrossover_operator_list\u001b[49m\u001b[43m,\u001b[49m\u001b[43m \u001b[49m\u001b[43mmutation_operator_list\u001b[49m\u001b[43m,\u001b[49m\u001b[43m \u001b[49m\u001b[43mcalFitness_three_policies\u001b[49m\u001b[43m,\u001b[49m\u001b[43m \u001b[49m\n\u001b[0;32m      8\u001b[0m \u001b[43m                \u001b[49m\u001b[43mdecision_tree\u001b[49m\u001b[43m,\u001b[49m\u001b[43m \u001b[49m\u001b[43mordering_tree\u001b[49m\u001b[43m,\u001b[49m\u001b[43m \u001b[49m\u001b[43mchoosing_tree\u001b[49m\u001b[43m,\u001b[49m\u001b[43m \u001b[49m\n\u001b[0;32m      9\u001b[0m \u001b[43m                \u001b[49m\u001b[43malpha\u001b[49m\u001b[43m,\u001b[49m\u001b[43m \u001b[49m\u001b[43mduration\u001b[49m\u001b[43m,\u001b[49m\u001b[43m \u001b[49m\u001b[43mstart_train\u001b[49m\u001b[43m,\u001b[49m\u001b[43m \u001b[49m\u001b[43mend_train\u001b[49m\u001b[43m,\u001b[49m\u001b[43m \u001b[49m\u001b[43mend_test\u001b[49m\u001b[43m)\u001b[49m\n",
      "File \u001b[1;32md:\\LAB\\DVRP\\DVRP_LY\\DVRPTW-drone-stochastic-demand\\singleObjective\\singleObjective.py:124\u001b[0m, in \u001b[0;36mrun_SingleObjective\u001b[1;34m(data_path, processing_num, num_vehicle, truck_capacity, drone_capacity, drone_endurance, indi_list, functions, terminal_decision, terminal_ordering, terminal_choosing, pop_size, max_gen, min_height, max_height, initialization_max_height, num_of_tour_particips, tournament_prob, crossover_rate, mutation_rate, crossover_operator_list, mutation_operator_list, calFitness, decision_tree, ordering_tree, choosing_tree, alpha, duration, start_train, end_train, end_test)\u001b[0m\n\u001b[0;32m    122\u001b[0m carbon_upper \u001b[38;5;241m=\u001b[39m \u001b[38;5;241m10000\u001b[39m\n\u001b[0;32m    123\u001b[0m reject_upper \u001b[38;5;241m=\u001b[39m \u001b[38;5;241m100\u001b[39m\n\u001b[1;32m--> 124\u001b[0m best \u001b[38;5;241m=\u001b[39m \u001b[43mtrainSingleObjective\u001b[49m\u001b[43m(\u001b[49m\u001b[43mprocessing_num\u001b[49m\u001b[43m,\u001b[49m\u001b[43m \u001b[49m\u001b[43mindi_list\u001b[49m\u001b[43m,\u001b[49m\u001b[43m \u001b[49m\u001b[43mnetwork\u001b[49m\u001b[43m,\u001b[49m\u001b[43m \u001b[49m\u001b[43mrequest_list\u001b[49m\u001b[43m,\u001b[49m\n\u001b[0;32m    125\u001b[0m \u001b[43m            \u001b[49m\u001b[43mfunctions\u001b[49m\u001b[43m,\u001b[49m\u001b[43m \u001b[49m\u001b[43mterminal_decision\u001b[49m\u001b[43m,\u001b[49m\u001b[43mterminal_ordering\u001b[49m\u001b[43m,\u001b[49m\u001b[43m \u001b[49m\u001b[43mterminal_choosing\u001b[49m\u001b[43m,\u001b[49m\u001b[43m \u001b[49m\n\u001b[0;32m    126\u001b[0m \u001b[43m            \u001b[49m\u001b[43mpop_size\u001b[49m\u001b[43m,\u001b[49m\u001b[43m \u001b[49m\u001b[43mmax_gen\u001b[49m\u001b[43m,\u001b[49m\u001b[43m \u001b[49m\u001b[43mmin_height\u001b[49m\u001b[43m,\u001b[49m\u001b[43m \u001b[49m\u001b[43mmax_height\u001b[49m\u001b[43m,\u001b[49m\u001b[43m \u001b[49m\u001b[43minitialization_max_height\u001b[49m\u001b[43m,\u001b[49m\u001b[43m  \u001b[49m\n\u001b[0;32m    127\u001b[0m \u001b[43m            \u001b[49m\u001b[43mnum_of_tour_particips\u001b[49m\u001b[43m,\u001b[49m\u001b[43m \u001b[49m\u001b[43mtournament_prob\u001b[49m\u001b[43m,\u001b[49m\u001b[43mcrossover_rate\u001b[49m\u001b[43m,\u001b[49m\u001b[43m \u001b[49m\u001b[43mmutation_rate\u001b[49m\u001b[43m,\u001b[49m\n\u001b[0;32m    128\u001b[0m \u001b[43m            \u001b[49m\u001b[43mcrossover_operator_list\u001b[49m\u001b[43m,\u001b[49m\u001b[43m \u001b[49m\u001b[43mmutation_operator_list\u001b[49m\u001b[43m,\u001b[49m\u001b[43m \u001b[49m\u001b[43mcalFitness\u001b[49m\u001b[43m,\u001b[49m\n\u001b[0;32m    129\u001b[0m \u001b[43m            \u001b[49m\u001b[43malpha\u001b[49m\u001b[43m,\u001b[49m\u001b[43m \u001b[49m\u001b[43mduration\u001b[49m\u001b[43m,\u001b[49m\u001b[43m \u001b[49m\u001b[43mstart_train\u001b[49m\u001b[43m,\u001b[49m\u001b[43m \u001b[49m\u001b[43mend_train\u001b[49m\u001b[43m,\u001b[49m\u001b[43m \u001b[49m\n\u001b[0;32m    130\u001b[0m \u001b[43m            \u001b[49m\u001b[43mdecision_tree\u001b[49m\u001b[43m,\u001b[49m\u001b[43m \u001b[49m\u001b[43mordering_tree\u001b[49m\u001b[43m,\u001b[49m\u001b[43m \u001b[49m\u001b[43mchoosing_tree\u001b[49m\u001b[43m,\u001b[49m\u001b[43m \u001b[49m\u001b[43mcarbon_upper\u001b[49m\u001b[43m,\u001b[49m\u001b[43m \u001b[49m\u001b[43mreject_upper\u001b[49m\u001b[43m)\u001b[49m\n\u001b[0;32m    132\u001b[0m carbon_sum, accepted_request \u001b[38;5;241m=\u001b[39m calFitness(best, network, request_test)\n\u001b[0;32m    133\u001b[0m \u001b[38;5;28;01mreturn\u001b[39;00m  \u001b[38;5;28;01mTrue\u001b[39;00m\n",
      "File \u001b[1;32md:\\LAB\\DVRP\\DVRP_LY\\DVRPTW-drone-stochastic-demand\\singleObjective\\singleObjective.py:94\u001b[0m, in \u001b[0;36mtrainSingleObjective\u001b[1;34m(processing_number, indi_list, network, request_list, functions, terminal_decision, terminal_ordering, terminal_choosing, pop_size, max_gen, min_height, max_height, initialization_max_height, num_of_tour_particips, tournament_prob, crossover_rate, mutation_rate, crossover_operator_list, mutation_operator_list, calFitness, alpha, duration, start_system_time, end_system_time, decision_tree, ordering_tree, choosing_tree, carbon_upper, reject_upper)\u001b[0m\n\u001b[0;32m     92\u001b[0m \u001b[38;5;28mprint\u001b[39m(\u001b[38;5;28mlen\u001b[39m(offspring))\n\u001b[0;32m     93\u001b[0m \u001b[38;5;28;01mfor\u001b[39;00m indi \u001b[38;5;129;01min\u001b[39;00m offspring:\n\u001b[1;32m---> 94\u001b[0m     indi\u001b[38;5;241m.\u001b[39mobjectives[\u001b[38;5;241m0\u001b[39m], indi\u001b[38;5;241m.\u001b[39mobjectives[\u001b[38;5;241m1\u001b[39m] \u001b[38;5;241m=\u001b[39m \u001b[43mcalFitness\u001b[49m\u001b[43m(\u001b[49m\u001b[43mindi\u001b[49m\u001b[43m,\u001b[49m\u001b[43m \u001b[49m\u001b[43mnetwork\u001b[49m\u001b[43m,\u001b[49m\u001b[43m \u001b[49m\u001b[43mrequest_list\u001b[49m\u001b[43m,\u001b[49m\u001b[43m \u001b[49m\u001b[43mduration\u001b[49m\u001b[43m,\u001b[49m\u001b[43m \u001b[49m\u001b[43mstart_system_time\u001b[49m\u001b[43m,\u001b[49m\u001b[43m \u001b[49m\u001b[43mend_system_time\u001b[49m\u001b[43m)\u001b[49m\n\u001b[0;32m     95\u001b[0m \u001b[38;5;66;03m# arg = []\u001b[39;00m\n\u001b[0;32m     96\u001b[0m \u001b[38;5;66;03m# for indi in offspring:\u001b[39;00m\n\u001b[0;32m     97\u001b[0m \u001b[38;5;66;03m#     arg.append((indi, network, request_list, duration, start_system_time, end_system_time))\u001b[39;00m\n\u001b[0;32m     98\u001b[0m \u001b[38;5;66;03m# result = pool.starmap(calFitness, arg)\u001b[39;00m\n\u001b[0;32m     99\u001b[0m \u001b[38;5;66;03m# for indi, value in zip(offspring, result):\u001b[39;00m\n\u001b[0;32m    100\u001b[0m \u001b[38;5;66;03m#     indi.objectives[0], indi.objectives[1] = value\u001b[39;00m\n\u001b[0;32m    101\u001b[0m     indi\u001b[38;5;241m.\u001b[39mcal_fitness_indi(alpha, carbon_upper, reject_upper)\n",
      "File \u001b[1;32md:\\LAB\\DVRP\\DVRP_LY\\DVRPTW-drone-stochastic-demand\\deployment\\evaluation.py:59\u001b[0m, in \u001b[0;36mcalFitness_three_policies\u001b[1;34m(indi, network, request_list, duration, start_system_time, end_system_time)\u001b[0m\n\u001b[0;32m     57\u001b[0m vehicle_priority \u001b[38;5;241m=\u001b[39m []\n\u001b[0;32m     58\u001b[0m \u001b[38;5;28;01mfor\u001b[39;00m vehicle_id \u001b[38;5;129;01min\u001b[39;00m \u001b[38;5;28mrange\u001b[39m(network_copy\u001b[38;5;241m.\u001b[39mnum_vehicle):\n\u001b[1;32m---> 59\u001b[0m     gp_value \u001b[38;5;241m=\u001b[39m \u001b[43mchoosing_gp\u001b[49m\u001b[43m(\u001b[49m\u001b[43mindi\u001b[49m\u001b[43m,\u001b[49m\u001b[43m \u001b[49m\u001b[43mrequest\u001b[49m\u001b[43m,\u001b[49m\u001b[43m \u001b[49m\u001b[43mT\u001b[49m\u001b[43m,\u001b[49m\u001b[43m \u001b[49m\u001b[43mnetwork_copy\u001b[49m\u001b[43m,\u001b[49m\u001b[43m \u001b[49m\u001b[43mvehicle_id\u001b[49m\u001b[43m)\u001b[49m\n\u001b[0;32m     60\u001b[0m     \u001b[38;5;66;03m# print(\"choosing_gp_value: \", gp_value)\u001b[39;00m\n\u001b[0;32m     61\u001b[0m     vehicle_priority\u001b[38;5;241m.\u001b[39mappend((vehicle_id, gp_value))\n",
      "File \u001b[1;32md:\\LAB\\DVRP\\DVRP_LY\\DVRPTW-drone-stochastic-demand\\deployment\\deploy_request.py:16\u001b[0m, in \u001b[0;36mchoosing_gp\u001b[1;34m(indi, request, T, network, vehicle_id)\u001b[0m\n\u001b[0;32m     14\u001b[0m \u001b[38;5;28;01mdef\u001b[39;00m \u001b[38;5;21mchoosing_gp\u001b[39m(indi: Individual, request: Request, T, network, vehicle_id):\n\u001b[0;32m     15\u001b[0m     X \u001b[38;5;241m=\u001b[39m Choosing(request, vehicle_id, T, network)\n\u001b[1;32m---> 16\u001b[0m     result \u001b[38;5;241m=\u001b[39m \u001b[43mindi\u001b[49m\u001b[38;5;241;43m.\u001b[39;49m\u001b[43mchoosing_tree\u001b[49m\u001b[38;5;241;43m.\u001b[39;49m\u001b[43mGetOutput\u001b[49m\u001b[43m(\u001b[49m\u001b[43mX\u001b[49m\u001b[43m)\u001b[49m\n\u001b[0;32m     17\u001b[0m     \u001b[38;5;28;01mreturn\u001b[39;00m result\n",
      "File \u001b[1;32md:\\LAB\\DVRP\\DVRP_LY\\DVRPTW-drone-stochastic-demand\\gp\\node\\function.py:142\u001b[0m, in \u001b[0;36mMinNode.GetOutput\u001b[1;34m(self, X)\u001b[0m\n\u001b[0;32m    141\u001b[0m \u001b[38;5;28;01mdef\u001b[39;00m \u001b[38;5;21mGetOutput\u001b[39m( \u001b[38;5;28mself\u001b[39m, X ):\n\u001b[1;32m--> 142\u001b[0m     X0 \u001b[38;5;241m=\u001b[39m \u001b[38;5;28;43mself\u001b[39;49m\u001b[38;5;241;43m.\u001b[39;49m\u001b[43m_children\u001b[49m\u001b[43m[\u001b[49m\u001b[38;5;241;43m0\u001b[39;49m\u001b[43m]\u001b[49m\u001b[38;5;241;43m.\u001b[39;49m\u001b[43mGetOutput\u001b[49m\u001b[43m(\u001b[49m\u001b[43m \u001b[49m\u001b[43mX\u001b[49m\u001b[43m \u001b[49m\u001b[43m)\u001b[49m\n\u001b[0;32m    143\u001b[0m     X1 \u001b[38;5;241m=\u001b[39m \u001b[38;5;28mself\u001b[39m\u001b[38;5;241m.\u001b[39m_children[\u001b[38;5;241m1\u001b[39m]\u001b[38;5;241m.\u001b[39mGetOutput( X )\n\u001b[0;32m    144\u001b[0m     \u001b[38;5;28;01mreturn\u001b[39;00m \u001b[38;5;28mmin\u001b[39m(X0 , X1)\n",
      "File \u001b[1;32md:\\LAB\\DVRP\\DVRP_LY\\DVRPTW-drone-stochastic-demand\\gp\\node\\function.py:66\u001b[0m, in \u001b[0;36mMulNode.GetOutput\u001b[1;34m(self, X)\u001b[0m\n\u001b[0;32m     65\u001b[0m \u001b[38;5;28;01mdef\u001b[39;00m \u001b[38;5;21mGetOutput\u001b[39m( \u001b[38;5;28mself\u001b[39m, X ):\n\u001b[1;32m---> 66\u001b[0m \tX0 \u001b[38;5;241m=\u001b[39m \u001b[38;5;28;43mself\u001b[39;49m\u001b[38;5;241;43m.\u001b[39;49m\u001b[43m_children\u001b[49m\u001b[43m[\u001b[49m\u001b[38;5;241;43m0\u001b[39;49m\u001b[43m]\u001b[49m\u001b[38;5;241;43m.\u001b[39;49m\u001b[43mGetOutput\u001b[49m\u001b[43m(\u001b[49m\u001b[43m \u001b[49m\u001b[43mX\u001b[49m\u001b[43m \u001b[49m\u001b[43m)\u001b[49m\n\u001b[0;32m     67\u001b[0m \tX1 \u001b[38;5;241m=\u001b[39m \u001b[38;5;28mself\u001b[39m\u001b[38;5;241m.\u001b[39m_children[\u001b[38;5;241m1\u001b[39m]\u001b[38;5;241m.\u001b[39mGetOutput( X )\n\u001b[0;32m     68\u001b[0m \t\u001b[38;5;28;01mreturn\u001b[39;00m X0 \u001b[38;5;241m*\u001b[39m X1\n",
      "File \u001b[1;32md:\\LAB\\DVRP\\DVRP_LY\\DVRPTW-drone-stochastic-demand\\gp\\node\\terminal.py:112\u001b[0m, in \u001b[0;36mPN.GetOutput\u001b[1;34m(self, X)\u001b[0m\n\u001b[0;32m    111\u001b[0m \u001b[38;5;28;01mdef\u001b[39;00m \u001b[38;5;21mGetOutput\u001b[39m(\u001b[38;5;28mself\u001b[39m, X):\n\u001b[1;32m--> 112\u001b[0m     \u001b[38;5;28;01mreturn\u001b[39;00m X\u001b[38;5;241m.\u001b[39mT \u001b[38;5;241m-\u001b[39m \u001b[43mX\u001b[49m\u001b[38;5;241;43m.\u001b[39;49m\u001b[43mr\u001b[49m\u001b[38;5;241m.\u001b[39marrival\n",
      "\u001b[1;31mAttributeError\u001b[0m: 'Choosing' object has no attribute 'r'"
     ]
    }
   ],
   "source": [
    "result = run_SingleObjective(data_path, num_pro, \n",
    "                num_vehicle, truck_capacity, drone_capacity, drone_endurance,\n",
    "                indi_list,  \n",
    "                function, terminal_decision, terminal_ordering, terminal_choosing, \n",
    "                pop_size, max_gen,  min_height, max_height, initialization_max_height,  \n",
    "                num_of_tour_particips, tournament_prob, pc, pm,\n",
    "                crossover_operator_list, mutation_operator_list, calFitness_three_policies, \n",
    "                decision_tree, ordering_tree, choosing_tree, \n",
    "                alpha, duration, start_train, end_train, end_test)"
   ]
  }
 ],
 "metadata": {
  "kernelspec": {
   "display_name": "Python 3",
   "language": "python",
   "name": "python3"
  },
  "language_info": {
   "codemirror_mode": {
    "name": "ipython",
    "version": 3
   },
   "file_extension": ".py",
   "mimetype": "text/x-python",
   "name": "python",
   "nbconvert_exporter": "python",
   "pygments_lexer": "ipython3",
   "version": "3.12.0"
  }
 },
 "nbformat": 4,
 "nbformat_minor": 2
}
