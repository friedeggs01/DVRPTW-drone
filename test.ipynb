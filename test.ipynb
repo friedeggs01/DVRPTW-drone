{
 "cells": [
  {
   "cell_type": "code",
   "execution_count": 10,
   "metadata": {},
   "outputs": [],
   "source": [
    "from gp.node.function import *\n",
    "from gp.node.terminal import *\n",
    "from gp.population.population import *\n",
    "from utils.function_operator import *\n",
    "from singleObjective.singleObjective import run_SingleObjective\n",
    "from deployment.evaluation import calFitness_three_policies\n",
    "from utils.crossover import *\n",
    "from utils.mutation import *\n",
    "import multiprocessing\n",
    "from utils.initialization import *\n",
    "    \n",
    "# Algorithm parameters\n",
    "num_pro = 10\n",
    "pop_size = 30\n",
    "max_gen = 20\n",
    "min_height = 2\n",
    "max_height = 8\n",
    "initialization_max_height = 4\n",
    "num_of_tour_particips = 2\n",
    "tournament_prob = 0.8\n",
    "pc = 0.8\n",
    "pm = 0.1\n",
    "\n",
    "# Vehicle parameters\n",
    "num_vehicle = 3\n",
    "truck_capacity = 1300\n",
    "drone_capacity = 10\n",
    "drone_endurance = 30\n",
    "\n",
    "# Reproduction operators\n",
    "crossover_operator_list = [crossover_branch_individual_swap]\n",
    "mutation_operator_list = [mutation_individual_branch_replace]\n",
    "\n",
    "# Data parameters\n",
    "alpha = 0.5\n",
    "duration = 10\n",
    "start_train = 0\n",
    "end_train = 1000\n",
    "end_test = 1000\n",
    "\n",
    "data_path =r\"data\\100\\h100c102.csv\"\n"
   ]
  },
  {
   "cell_type": "code",
   "execution_count": 11,
   "metadata": {},
   "outputs": [],
   "source": [
    "# Node of tree\n",
    "function = [AddNode(), SubNode(), MulNode(), DivNode(), MaxNode(), MinNode()]\n",
    "terminal_decision = [MVC(), ATR(), SDR(), TWE(), WTR(), DDR(), DEM(), PN(), ST(), MD(), Const()]\n",
    "terminal_ordering = [ATR(), SDR(), TWE(), WTR(), DDR(), DEM(), PN(), ST(), MD(), Const()]\n",
    "terminal_choosing = [TTC(), DTC(), TRC(), PL(), NC(), MDV(), Const()]\n",
    "\n",
    "decision_tree = None\n",
    "ordering_tree = None\n",
    "choosing_tree = None\n",
    "indi_list = random_population_init(pop_size, min_height, initialization_max_height,\n",
    "                    function, terminal_decision, terminal_ordering, terminal_choosing, decision_tree, ordering_tree, choosing_tree)\n"
   ]
  },
  {
   "cell_type": "code",
   "execution_count": 12,
   "metadata": {},
   "outputs": [
    {
     "name": "stdout",
     "output_type": "stream",
     "text": [
      "Carbon upper:  8634.753206203404\n",
      "Reject upper:  101\n",
      "Generation 0: [1098.7743090784686, 31]\n",
      "The he 1: [1338.3583033531781, 7]\n",
      "The he 2: [1547.3404444922232, 2]\n",
      "The he 3: [1429.7638862980161, 2]\n",
      "The he 4: [1234.3939364643977, 2]\n",
      "The he 5: [1234.3939364643977, 2]\n",
      "The he 6: [1234.3939364643977, 2]\n",
      "The he 7: [1234.3939364643977, 2]\n",
      "The he 8: [861.672100654981, 3]\n",
      "The he 9: [678.4720201465375, 3]\n",
      "The he 10: [678.4720201465375, 3]\n",
      "The he 11: [671.0749112559666, 1]\n",
      "The he 12: [671.0749112559666, 1]\n",
      "The he 13: [671.1180509902443, 0]\n",
      "The he 14: [671.1180509902443, 0]\n",
      "The he 15: [671.1180509902443, 0]\n",
      "The he 16: [671.1180509902443, 0]\n",
      "The he 17: [671.1180509902443, 0]\n",
      "The he 18: [671.1180509902443, 0]\n",
      "The he 19: [671.1180509902443, 0]\n",
      "The he 20: [671.1180509902443, 0]\n"
     ]
    }
   ],
   "source": [
    "result = run_SingleObjective(data_path, num_pro, \n",
    "                num_vehicle, truck_capacity, drone_capacity, drone_endurance,\n",
    "                indi_list,  \n",
    "                function, terminal_decision, terminal_ordering, terminal_choosing, \n",
    "                pop_size, max_gen,  min_height, max_height, initialization_max_height,  \n",
    "                num_of_tour_particips, tournament_prob, pc, pm,\n",
    "                crossover_operator_list, mutation_operator_list, calFitness_three_policies, \n",
    "                decision_tree, ordering_tree, choosing_tree, \n",
    "                alpha, duration, start_train, end_train, end_test)"
   ]
  },
  {
   "cell_type": "code",
   "execution_count": null,
   "metadata": {},
   "outputs": [],
   "source": [
    "# Mình đang bỏ qua ràng buộc thời gian bay của drone (a sẽ bổ sung sau nhưng mình coi thời gian bay của drone là vô cùng đi)\n",
    "# Em đẩy code lên server r chạy nhé, để chạy tất cả các bộ em hỏi anh Tùng xem có chạy node nào không, không em đẩy lên luôn 3 node\n",
    "# Số thế hệ em để tạm 50 thôi, số cá thể là 100, số core chạy num_pro = 80  (cao hơn có thể bị sập)\n",
    "# Thời gian end_train em xem mấy bộ xem để giá trị hợp lý để có thể chạy được hết các yêu cầu (có thể là end_timewindow của request cuối cùng/ hoặc một giá trị đủ lớn 10000)\n",
    "# Phần heuristic chạy trên máy local cx được, phần này thì nhanh\n"
   ]
  }
 ],
 "metadata": {
  "kernelspec": {
   "display_name": "Python 3",
   "language": "python",
   "name": "python3"
  },
  "language_info": {
   "codemirror_mode": {
    "name": "ipython",
    "version": 3
   },
   "file_extension": ".py",
   "mimetype": "text/x-python",
   "name": "python",
   "nbconvert_exporter": "python",
   "pygments_lexer": "ipython3",
   "version": "3.12.0"
  }
 },
 "nbformat": 4,
 "nbformat_minor": 2
}
