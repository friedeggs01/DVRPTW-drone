{
 "cells": [
  {
   "cell_type": "markdown",
   "metadata": {},
   "source": [
    "## Importing libraries"
   ]
  },
  {
   "cell_type": "code",
   "execution_count": 1,
   "metadata": {},
   "outputs": [],
   "source": [
    "import numpy as np\n",
    "import random\n",
    "from typing import List\n",
    "import numba as nb\n",
    "import copy"
   ]
  },
  {
   "cell_type": "markdown",
   "metadata": {},
   "source": [
    "## Define function and terminals"
   ]
  },
  {
   "cell_type": "code",
   "execution_count": 2,
   "metadata": {},
   "outputs": [],
   "source": [
    "class function:\n",
    "\n",
    "    def __init__(self, function, name, arity):\n",
    "        self.function = function\n",
    "        self.arity = arity\n",
    "        self.name = name\n",
    "        \n",
    "    def __repr__(self) -> str:\n",
    "        return self.name        \n",
    "\n",
    "    def __call__(self, *args):\n",
    "        return self.function(*args)\n",
    "\n",
    "def _protected_division(x1, x2):\n",
    "    \"\"\"Closure of division (x1/x2) for zero denominator.\"\"\"\n",
    "    with np.errstate(divide='ignore', invalid='ignore'):\n",
    "        return np.where(np.abs(x2) > 0.001, np.divide(x1, x2), 1.)\n",
    "    \n",
    "add2 = function(function=np.add, name = \"add\", arity=2)\n",
    "sub2 = function(function=np.subtract, name = \"sub\",  arity=2)\n",
    "mul2 = function(function=np.multiply, name = \"mul\", arity=2)\n",
    "max2 = function(function=np.maximum, name = \"sub\",  arity=2)\n",
    "min2 = function(function=np.minimum, name = \"mul\", arity=2)\n",
    "div2 = function(function=_protected_division, name = \"div\", arity=2)"
   ]
  },
  {
   "cell_type": "markdown",
   "metadata": {},
   "source": [
    "## Genetic Programming"
   ]
  },
  {
   "cell_type": "markdown",
   "metadata": {},
   "source": [
    "### Generate individual"
   ]
  },
  {
   "cell_type": "code",
   "execution_count": 3,
   "metadata": {},
   "outputs": [],
   "source": [
    "def generate_individual(max_depth: int, \n",
    "                        function_set: List[function]):\n",
    "    \n",
    "    function = np.random.choice(function_set)\n",
    "    terminal_stack = [function.arity]\n",
    "    program = [function]\n",
    "    while terminal_stack:\n",
    "        depth = len(terminal_stack)\n",
    "        \n",
    "        if depth < max_depth:\n",
    "            next_func = np.random.choice(function_set)\n",
    "            program.append(next_func)\n",
    "            terminal_stack.append(next_func.arity)\n",
    "            \n",
    "        else:\n",
    "            program.append(\"X\")\n",
    "            terminal_stack[-1] -= 1\n",
    "            while terminal_stack[-1] == 0:\n",
    "                terminal_stack.pop()\n",
    "                if not terminal_stack:\n",
    "                    return program\n",
    "                terminal_stack[-1] -= 1\n",
    "    return program"
   ]
  },
  {
   "cell_type": "markdown",
   "metadata": {},
   "source": [
    "### Construct fitness function"
   ]
  },
  {
   "cell_type": "code",
   "execution_count": 4,
   "metadata": {},
   "outputs": [],
   "source": [
    "def target_function(x, a = 1, b = 100):\n",
    "    return (a - x)**2 + b * (50 - x**2)**2\n",
    "\n",
    "def evaluate_fitness(program, x: np.ndarray):\n",
    "    x = np.array(x)\n",
    "    stack = []\n",
    "    if len(program) == 1:\n",
    "        return np.sqrt(sum((x - target_function(x)) ** 2).mean())\n",
    "    \n",
    "    for func in program:\n",
    "        if isinstance(func, function):\n",
    "            stack.append([func])\n",
    "        else:\n",
    "            stack[-1].append(x)\n",
    "        # print(stack)\n",
    "        while len(stack[-1]) == stack[-1][0].arity + 1:\n",
    "            func = stack[-1][0]\n",
    "            res = func(*stack[-1][1:])\n",
    "            if len(stack) != 1:\n",
    "                stack.pop()\n",
    "                stack[-1].append(res)\n",
    "            else:\n",
    "                # print(\"A\", stack, stack[-1][0].arity)\n",
    "                # res = func(*stack[-1][1:])\n",
    "                # print(res)\n",
    "                return np.sqrt(sum((res - target_function(x)) ** 2).mean())\n",
    "            \n",
    "    return None"
   ]
  },
  {
   "cell_type": "markdown",
   "metadata": {},
   "source": [
    "### Genetic Operator"
   ]
  },
  {
   "cell_type": "code",
   "execution_count": 5,
   "metadata": {},
   "outputs": [],
   "source": [
    "def get_subtree(program):\n",
    "    probs = np.array([0.9 if isinstance(node, function) else 0.1\n",
    "                        for node in program])\n",
    "    probs = np.cumsum(probs / probs.sum())\n",
    "    start = np.searchsorted(probs, np.random.uniform())\n",
    "    \n",
    "    stack = 1\n",
    "    end = start\n",
    "    \n",
    "    while stack > end - start:\n",
    "        node = program[end]\n",
    "        if isinstance(node, function):\n",
    "            stack += node.arity\n",
    "            \n",
    "        end += 1\n",
    "        \n",
    "    return start, end\n",
    "\n",
    "def crossover(pa, pb):\n",
    "    pa = copy.deepcopy(pa)\n",
    "    pb = copy.deepcopy(pb)\n",
    "    start_a, end_a = get_subtree(pa)\n",
    "    start_b, end_b = get_subtree(pb)\n",
    "    \n",
    "    return pa[:start_a] + pb[start_b: end_b] + pa[end_a:], pb[:start_b] + pa[start_a: end_a] + pb[end_b:]\n",
    "\n",
    "\n",
    "def subtree_mutation(individual, function_set, max_depth=2):\n",
    "    mutated_individual = copy.deepcopy(individual)\n",
    "    tmp = generate_individual(max_depth, function_set)\n",
    "    crossover(mutated_individual, tmp)\n",
    "    return mutated_individual    "
   ]
  },
  {
   "cell_type": "markdown",
   "metadata": {},
   "source": [
    "### Main"
   ]
  },
  {
   "cell_type": "code",
   "execution_count": 6,
   "metadata": {},
   "outputs": [
    {
     "name": "stdout",
     "output_type": "stream",
     "text": [
      "Generation 1: Best individual, Fitness - 629798.9969023847\n",
      "Generation 2: Best individual, Fitness - 629798.9969023847\n",
      "Generation 3: Best individual, Fitness - 629798.9969023847\n",
      "Generation 4: Best individual, Fitness - 629798.9969023847\n",
      "Generation 5: Best individual, Fitness - 612981.759041205\n",
      "Generation 6: Best individual, Fitness - 612935.70736649\n",
      "Generation 7: Best individual, Fitness - 612908.748761943\n",
      "Generation 8: Best individual, Fitness - 609298.3336112943\n",
      "Generation 9: Best individual, Fitness - 609298.3336112943\n",
      "Generation 10: Best individual, Fitness - 609298.3336112943\n",
      "Generation 11: Best individual, Fitness - 607258.7327640912\n",
      "Generation 12: Best individual, Fitness - 607258.7327640912\n",
      "Generation 13: Best individual, Fitness - 607258.7327640912\n",
      "Generation 14: Best individual, Fitness - 607258.4399306444\n",
      "Generation 15: Best individual, Fitness - 606582.2876224214\n",
      "Generation 16: Best individual, Fitness - 606582.2876224214\n",
      "Generation 17: Best individual, Fitness - 606582.2876224214\n",
      "Generation 18: Best individual, Fitness - 606582.2876224214\n",
      "Generation 19: Best individual, Fitness - 606582.2876224214\n"
     ]
    },
    {
     "name": "stderr",
     "output_type": "stream",
     "text": [
      "C:\\Users\\Admin\\AppData\\Local\\Temp\\ipykernel_7468\\3699534555.py:26: RuntimeWarning: overflow encountered in scalar add\n",
      "  return np.sqrt(sum((res - target_function(x)) ** 2).mean())\n"
     ]
    },
    {
     "name": "stdout",
     "output_type": "stream",
     "text": [
      "Generation 20: Best individual, Fitness - 32616.347358341645\n",
      "Generation 21: Best individual, Fitness - 32616.347358341645\n",
      "Generation 22: Best individual, Fitness - 32616.347358341645\n",
      "Generation 23: Best individual, Fitness - 27161.18176736793\n",
      "Generation 24: Best individual, Fitness - 27161.18176736793\n",
      "Generation 25: Best individual, Fitness - 27161.18176736793\n",
      "Generation 26: Best individual, Fitness - 27161.18176736793\n",
      "Generation 27: Best individual, Fitness - 23506.020569207372\n",
      "Generation 28: Best individual, Fitness - 23506.020569207372\n"
     ]
    },
    {
     "name": "stderr",
     "output_type": "stream",
     "text": [
      "C:\\Users\\Admin\\AppData\\Local\\Temp\\ipykernel_7468\\3699534555.py:8: RuntimeWarning: overflow encountered in scalar add\n",
      "  return np.sqrt(sum((x - target_function(x)) ** 2).mean())\n"
     ]
    },
    {
     "name": "stdout",
     "output_type": "stream",
     "text": [
      "Generation 29: Best individual, Fitness - 23506.020569207372\n",
      "Generation 30: Best individual, Fitness - 23506.020569207372\n",
      "Generation 31: Best individual, Fitness - 23506.020569207372\n",
      "Generation 32: Best individual, Fitness - 23506.020569207372\n",
      "Generation 33: Best individual, Fitness - 23506.020569207372\n",
      "Generation 34: Best individual, Fitness - 8031.355365067592\n",
      "Generation 35: Best individual, Fitness - 8031.355365067592\n",
      "Generation 36: Best individual, Fitness - 8031.355365067592\n"
     ]
    },
    {
     "name": "stderr",
     "output_type": "stream",
     "text": [
      "C:\\Users\\Admin\\AppData\\Local\\Temp\\ipykernel_7468\\3699534555.py:26: RuntimeWarning: invalid value encountered in sqrt\n",
      "  return np.sqrt(sum((res - target_function(x)) ** 2).mean())\n"
     ]
    },
    {
     "name": "stdout",
     "output_type": "stream",
     "text": [
      "Generation 37: Best individual, Fitness - 7041.202170084311\n",
      "Generation 38: Best individual, Fitness - 7041.202170084311\n",
      "Generation 39: Best individual, Fitness - 6499.1621767732495\n",
      "Generation 40: Best individual, Fitness - 6499.1621767732495\n",
      "Generation 41: Best individual, Fitness - 6499.1621767732495\n",
      "Generation 42: Best individual, Fitness - 6499.1621767732495\n",
      "Generation 43: Best individual, Fitness - 6499.1621767732495\n",
      "Generation 44: Best individual, Fitness - 6499.1621767732495\n",
      "Generation 45: Best individual, Fitness - 6499.1621767732495\n",
      "Generation 46: Best individual, Fitness - 6499.1621767732495\n",
      "Generation 47: Best individual, Fitness - 5577.083825800003\n",
      "Generation 48: Best individual, Fitness - 5577.083825800003\n",
      "Generation 49: Best individual, Fitness - 5577.083825800003\n",
      "Generation 50: Best individual, Fitness - 5577.083825800003\n",
      "Generation 51: Best individual, Fitness - 5577.083825800003\n",
      "Generation 52: Best individual, Fitness - 5577.083825800003\n",
      "Generation 53: Best individual, Fitness - 5577.083825800003\n",
      "Generation 54: Best individual, Fitness - 5577.083825800003\n",
      "Generation 55: Best individual, Fitness - 5577.083825800003\n",
      "Generation 56: Best individual, Fitness - 5577.083825800003\n",
      "Generation 57: Best individual, Fitness - 5577.083825800003\n",
      "Generation 58: Best individual, Fitness - 5577.083825800003\n",
      "Generation 59: Best individual, Fitness - 5577.083825800003\n",
      "Generation 60: Best individual, Fitness - 5577.083825800003\n",
      "Generation 61: Best individual, Fitness - 5577.083825800003\n",
      "Generation 62: Best individual, Fitness - 2355.9524613200497\n",
      "Generation 63: Best individual, Fitness - 2355.9524613200497\n",
      "Generation 64: Best individual, Fitness - 2355.9524613200497\n",
      "Generation 65: Best individual, Fitness - 2355.9524613200497\n",
      "Generation 66: Best individual, Fitness - 2355.9524613200497\n",
      "Generation 67: Best individual, Fitness - 2355.9524613200497\n",
      "Generation 68: Best individual, Fitness - 2355.9524613200497\n",
      "Generation 69: Best individual, Fitness - 2355.9524613200497\n",
      "Generation 70: Best individual, Fitness - 2355.9524613200497\n",
      "Generation 71: Best individual, Fitness - 2355.9524613200497\n",
      "Generation 72: Best individual, Fitness - 2355.9524613200497\n",
      "Generation 73: Best individual, Fitness - 2355.9524613200497\n",
      "Generation 74: Best individual, Fitness - 2355.9524613200497\n",
      "Generation 75: Best individual, Fitness - 2355.9524613200497\n",
      "Generation 76: Best individual, Fitness - 2355.9524613200497\n",
      "Generation 77: Best individual, Fitness - 2355.9524613200497\n",
      "Generation 78: Best individual, Fitness - 2355.9524613200497\n",
      "Generation 79: Best individual, Fitness - 2355.9524613200497\n",
      "Generation 80: Best individual, Fitness - 2355.9524613200497\n",
      "Generation 81: Best individual, Fitness - 2355.9524613200497\n",
      "Generation 82: Best individual, Fitness - 2355.9524613200497\n",
      "Generation 83: Best individual, Fitness - 2355.9524613200497\n",
      "Generation 84: Best individual, Fitness - 2355.9524613200497\n",
      "Generation 85: Best individual, Fitness - 2355.9524613200497\n",
      "Generation 86: Best individual, Fitness - 2355.9524613200497\n",
      "Generation 87: Best individual, Fitness - 2355.9524613200497\n",
      "Generation 88: Best individual, Fitness - 2355.9524613200497\n",
      "Generation 89: Best individual, Fitness - 2355.9524613200497\n",
      "Generation 90: Best individual, Fitness - 2355.9524613200497\n",
      "Generation 91: Best individual, Fitness - 2355.9524613200497\n",
      "Generation 92: Best individual, Fitness - 2355.9524613200497\n",
      "Generation 93: Best individual, Fitness - 2355.9524613200497\n",
      "Generation 94: Best individual, Fitness - 2355.9524613200497\n",
      "Generation 95: Best individual, Fitness - 2355.9524613200497\n",
      "Generation 96: Best individual, Fitness - 2355.9524613200497\n",
      "Generation 97: Best individual, Fitness - 2355.9524613200497\n",
      "Generation 98: Best individual, Fitness - 2355.9524613200497\n",
      "Generation 99: Best individual, Fitness - 2355.9524613200497\n",
      "Generation 100: Best individual, Fitness - 2355.9524613200497\n"
     ]
    }
   ],
   "source": [
    "def main(data, pop_size, generations, max_depth, function_set, crossover_rate = 0.8, mutation_rate = 0.15):\n",
    "    population = [generate_individual(max_depth=max_depth, function_set=function_set) for _ in range(pop_size)]\n",
    "    # print(population[0])\n",
    "    population = sorted(population, key=lambda x: evaluate_fitness(x, data), reverse=False)\n",
    "    \n",
    "    for generation in range(generations):\n",
    "        assert len(population) == pop_size\n",
    "        offspring = []\n",
    "        while len(offspring) < pop_size:\n",
    "            pa, pb = np.random.randint(0, len(population) - 1, 2)\n",
    "            pa, pb = population[pa], population[pb]\n",
    "            rnd = random.random()\n",
    "            if rnd < crossover_rate:\n",
    "                off1, off2 = crossover(pa, pb)\n",
    "            elif rnd < mutation_rate + crossover_rate:\n",
    "                off1, off2 = subtree_mutation(pa, function_set, mutation_rate), subtree_mutation(pb, function_set, mutation_rate)\n",
    "            else:\n",
    "                off1, off2 = generate_individual(max_depth, function_set), generate_individual(max_depth, function_set)\n",
    "            offspring.append(off1)\n",
    "            offspring.append(off2)\n",
    "\n",
    "        population.extend(offspring)\n",
    "        population = sorted(population, key=lambda x: evaluate_fitness(x, data), reverse=False)\n",
    "        population = population[:pop_size]\n",
    "        \n",
    "        best_individual = population[0]\n",
    "        print(f\"Generation {generation+1}: Best individual, Fitness - {evaluate_fitness(best_individual, data)}\")\n",
    "    return best_individual\n",
    "data_points = np.array([i for i in range(-10, 11)])\n",
    "best_ind = main(data_points, generations=100, pop_size=100, max_depth=8, function_set = [add2, sub2, mul2, div2, min2, max2])\n",
    "        "
   ]
  },
  {
   "cell_type": "code",
   "execution_count": 7,
   "metadata": {},
   "outputs": [
    {
     "data": {
      "text/plain": [
       "[sub,\n",
       " mul,\n",
       " add,\n",
       " 'X',\n",
       " 'X',\n",
       " add,\n",
       " add,\n",
       " 'X',\n",
       " 'X',\n",
       " 'X',\n",
       " mul,\n",
       " sub,\n",
       " mul,\n",
       " mul,\n",
       " mul,\n",
       " 'X',\n",
       " 'X',\n",
       " sub,\n",
       " 'X',\n",
       " 'X',\n",
       " mul,\n",
       " mul,\n",
       " mul,\n",
       " 'X',\n",
       " 'X',\n",
       " mul,\n",
       " 'X',\n",
       " 'X',\n",
       " sub,\n",
       " sub,\n",
       " 'X',\n",
       " 'X',\n",
       " add,\n",
       " 'X',\n",
       " 'X',\n",
       " mul,\n",
       " mul,\n",
       " mul,\n",
       " 'X',\n",
       " 'X',\n",
       " mul,\n",
       " 'X',\n",
       " 'X',\n",
       " sub,\n",
       " mul,\n",
       " 'X',\n",
       " 'X',\n",
       " mul,\n",
       " mul,\n",
       " sub,\n",
       " 'X',\n",
       " 'X',\n",
       " mul,\n",
       " 'X',\n",
       " 'X',\n",
       " sub,\n",
       " sub,\n",
       " 'X',\n",
       " 'X',\n",
       " add,\n",
       " 'X',\n",
       " 'X',\n",
       " sub,\n",
       " sub,\n",
       " 'X',\n",
       " 'X',\n",
       " add,\n",
       " 'X',\n",
       " 'X']"
      ]
     },
     "execution_count": 7,
     "metadata": {},
     "output_type": "execute_result"
    }
   ],
   "source": [
    "best_ind"
   ]
  },
  {
   "cell_type": "code",
   "execution_count": 8,
   "metadata": {},
   "outputs": [
    {
     "data": {
      "text/plain": [
       "42539.31847126844"
      ]
     },
     "execution_count": 8,
     "metadata": {},
     "output_type": "execute_result"
    }
   ],
   "source": [
    "evaluate_fitness(best_ind, [1])"
   ]
  },
  {
   "cell_type": "code",
   "execution_count": null,
   "metadata": {},
   "outputs": [],
   "source": []
  }
 ],
 "metadata": {
  "kernelspec": {
   "display_name": "VNF",
   "language": "python",
   "name": "python3"
  },
  "language_info": {
   "codemirror_mode": {
    "name": "ipython",
    "version": 3
   },
   "file_extension": ".py",
   "mimetype": "text/x-python",
   "name": "python",
   "nbconvert_exporter": "python",
   "pygments_lexer": "ipython3",
   "version": "3.11.6"
  }
 },
 "nbformat": 4,
 "nbformat_minor": 2
}
