{
 "cells": [
  {
   "cell_type": "code",
   "execution_count": 10,
   "metadata": {},
   "outputs": [
    {
     "name": "stdout",
     "output_type": "stream",
     "text": [
      "[[0. 0. 0. 0.]\n",
      " [0. 0. 0. 0.]\n",
      " [0. 0. 0. 0.]\n",
      " [0. 0. 0. 0.]\n",
      " [0. 0. 0. 0.]\n",
      " [0. 0. 0. 0.]\n",
      " [0. 0. 0. 0.]\n",
      " [0. 0. 0. 0.]\n",
      " [0. 0. 0. 0.]\n",
      " [0. 0. 0. 0.]\n",
      " [0. 0. 0. 0.]\n",
      " [0. 0. 0. 0.]\n",
      " [0. 0. 0. 0.]\n",
      " [0. 0. 0. 0.]\n",
      " [0. 0. 0. 0.]\n",
      " [0. 0. 0. 0.]]\n"
     ]
    },
    {
     "name": "stderr",
     "output_type": "stream",
     "text": [
      "c:\\Users\\Admin\\AppData\\Local\\Programs\\Python\\Python311\\Lib\\site-packages\\gym\\utils\\passive_env_checker.py:233: DeprecationWarning: `np.bool8` is a deprecated alias for `np.bool_`.  (Deprecated NumPy 1.24)\n",
      "  if not isinstance(terminated, (bool, np.bool8)):\n"
     ]
    },
    {
     "ename": "ValueError",
     "evalue": "too many values to unpack (expected 4)",
     "output_type": "error",
     "traceback": [
      "\u001b[1;31m---------------------------------------------------------------------------\u001b[0m",
      "\u001b[1;31mValueError\u001b[0m                                Traceback (most recent call last)",
      "Cell \u001b[1;32mIn[10], line 58\u001b[0m\n\u001b[0;32m     54\u001b[0m     action \u001b[38;5;241m=\u001b[39m np\u001b[38;5;241m.\u001b[39margmax(Q_table[current_state,:])\n\u001b[0;32m     56\u001b[0m \u001b[38;5;66;03m# The environment runs the chosen action and returns\u001b[39;00m\n\u001b[0;32m     57\u001b[0m \u001b[38;5;66;03m# the next state, a reward and true if the epiosed is ended.\u001b[39;00m\n\u001b[1;32m---> 58\u001b[0m next_state, reward, done, _ \u001b[38;5;241m=\u001b[39m env\u001b[38;5;241m.\u001b[39mstep(action)\n\u001b[0;32m     60\u001b[0m \u001b[38;5;66;03m# We update our Q-table using the Q-learning iteration\u001b[39;00m\n\u001b[0;32m     61\u001b[0m Q_table[current_state, action] \u001b[38;5;241m=\u001b[39m (\u001b[38;5;241m1\u001b[39m\u001b[38;5;241m-\u001b[39mlr) \u001b[38;5;241m*\u001b[39m Q_table[current_state, action] \u001b[38;5;241m+\u001b[39mlr\u001b[38;5;241m*\u001b[39m(reward \u001b[38;5;241m+\u001b[39m gamma\u001b[38;5;241m*\u001b[39m\u001b[38;5;28mmax\u001b[39m(Q_table[next_state,:]))\n",
      "\u001b[1;31mValueError\u001b[0m: too many values to unpack (expected 4)"
     ]
    }
   ],
   "source": [
    "import numpy as np\n",
    "import gym\n",
    "\n",
    "env = gym.make(\"FrozenLake-v1\")\n",
    "n_observations = env.observation_space.n\n",
    "n_actions = env.action_space.n\n",
    "\n",
    "#Initialize the Q-table to 0\n",
    "Q_table = np.zeros((n_observations,n_actions))\n",
    "print(Q_table)\n",
    "\n",
    "#number of episode we will run\n",
    "n_episodes = 10000\n",
    "\n",
    "#maximum of iteration per episode\n",
    "max_iter_episode = 100\n",
    "\n",
    "#initialize the exploration probability to 1\n",
    "exploration_proba = 1\n",
    "\n",
    "#exploartion decreasing decay for exponential decreasing\n",
    "exploration_decreasing_decay = 0.001\n",
    "\n",
    "# minimum of exploration proba\n",
    "min_exploration_proba = 0.01\n",
    "\n",
    "#discounted factor\n",
    "gamma = 0.99\n",
    "\n",
    "#learning rate\n",
    "lr = 0.1\n",
    "\n",
    "total_rewards_episode = list()\n",
    "\n",
    "#we iterate over episodes\n",
    "for e in range(n_episodes):\n",
    "    #we initialize the first state of the episode\n",
    "    current_state = env.reset()\n",
    "    done = False\n",
    "    \n",
    "    #sum the rewards that the agent gets from the environment\n",
    "    total_episode_reward = 0\n",
    "    \n",
    "    for i in range(max_iter_episode): \n",
    "        # we sample a float from a uniform distribution over 0 and 1\n",
    "        # if the sampled flaot is less than the exploration proba\n",
    "        #     the agent selects arandom action\n",
    "        # else\n",
    "        #     he exploits his knowledge using the bellman equation \n",
    "        \n",
    "        if np.random.uniform(0,1) < exploration_proba:\n",
    "            action = env.action_space.sample()\n",
    "        else:\n",
    "            action = np.argmax(Q_table[current_state,:])\n",
    "        \n",
    "        # The environment runs the chosen action and returns\n",
    "        # the next state, a reward and true if the epiosed is ended.\n",
    "        next_state, reward, done, _ = env.step(action)\n",
    "        \n",
    "        # We update our Q-table using the Q-learning iteration\n",
    "        Q_table[current_state, action] = (1-lr) * Q_table[current_state, action] +lr*(reward + gamma*max(Q_table[next_state,:]))\n",
    "        total_episode_reward = total_episode_reward + reward\n",
    "        # If the episode is finished, we leave the for loop\n",
    "        if done:\n",
    "            break\n",
    "        current_state = next_state\n",
    "    #We update the exploration proba using exponential decay formula \n",
    "    exploration_proba = max(min_exploration_proba, np.exp(-exploration_decreasing_decay*e))\n",
    "    total_rewards_episode.append(total_episode_reward)\n",
    "    \n",
    "    print(\"Mean reward per thousand episodes\")\n",
    "# for i in range(10):\n",
    "#     print(\"(i+1)*1000,\": mean espiode reward: \",\\\n",
    "#            np.mean(rewards_per_episode[1000*i:1000*(i+1)]))"
   ]
  }
 ],
 "metadata": {
  "kernelspec": {
   "display_name": "Python 3",
   "language": "python",
   "name": "python3"
  },
  "language_info": {
   "codemirror_mode": {
    "name": "ipython",
    "version": 3
   },
   "file_extension": ".py",
   "mimetype": "text/x-python",
   "name": "python",
   "nbconvert_exporter": "python",
   "pygments_lexer": "ipython3",
   "version": "3.11.6"
  }
 },
 "nbformat": 4,
 "nbformat_minor": 2
}
