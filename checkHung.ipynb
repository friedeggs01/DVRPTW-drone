{
 "cells": [
  {
   "cell_type": "code",
   "execution_count": 23,
   "metadata": {},
   "outputs": [],
   "source": [
    "route_list = [0]*12\n",
    "route_list[1] = \"0 15 20* 17 31* 35* 71 40 16 18 23 22* 43 1 34* 57 97* 99 100* 93 0\"\n",
    "route_list[2] = \"0 4* 3 13* 27 12 41 73 79* 53 75* 95 91* 80 0\"\n",
    "route_list[3] = \"0 10 7 8* 5 24* 45 51* 49 76* 9 55* 96 66* 90 0\"\n",
    "route_list[4] = \"0 2* 21 25* 50 48 77* 58* 62* 92 19* 98 0\"\n",
    "route_list[5] = \"0 33* 37 59 44 28* 42 81 47 11* 83 94* 82 0\"\n",
    "route_list[6] = \"0 30 64* 63 88* 85 89* 0\"\n",
    "route_list[7] = \"0 26* 29 60* 52 87 6 65* 0\"\n",
    "route_list[8] = \"0 36 54 46* 14 32* 67 86* 84 0\"\n",
    "route_list[9]= \"0 61 68* 78 74 56 39 69 0\"\n",
    "route_list[10] = \"0 70* 72 0\"\n",
    "route_list[11]= \"0 38 0\""
   ]
  },
  {
   "cell_type": "code",
   "execution_count": 24,
   "metadata": {},
   "outputs": [
    {
     "name": "stdout",
     "output_type": "stream",
     "text": [
      "[0, '0 15 20* 17 31* 35* 71 40 16 18 23 22* 43 1 34* 57 97* 99 100* 93 0', '0 4* 3 13* 27 12 41 73 79* 53 75* 95 91* 80 0', '0 10 7 8* 5 24* 45 51* 49 76* 9 55* 96 66* 90 0', '0 2* 21 25* 50 48 77* 58* 62* 92 19* 98 0', '0 33* 37 59 44 28* 42 81 47 11* 83 94* 82 0', '0 30 64* 63 88* 85 89* 0', '0 26* 29 60* 52 87 6 65* 0', '0 36 54 46* 14 32* 67 86* 84 0', '0 61 68* 78 74 56 39 69 0', '0 70* 72 0', '0 38 0']\n"
     ]
    }
   ],
   "source": [
    "print(route_list)"
   ]
  },
  {
   "cell_type": "code",
   "execution_count": 25,
   "metadata": {},
   "outputs": [],
   "source": [
    "def preprocess_route(route_str):\n",
    "    route_split = route_str.split()\n",
    "    route_split = route_split[1:-1]\n",
    "    route = []\n",
    "    drone = []\n",
    "    for i in range(len(route_split)):\n",
    "        if route_split[i][-1] == \"*\":\n",
    "            drone.append(int(route_split[i][:-1]))\n",
    "            route.append(int(route_split[i][:-1]))\n",
    "        else:\n",
    "            route.append(int(route_split[i]))\n",
    "    route.append(-1)\n",
    "    route.extend(drone)\n",
    "    return route"
   ]
  },
  {
   "cell_type": "code",
   "execution_count": null,
   "metadata": {},
   "outputs": [
    {
     "name": "stdout",
     "output_type": "stream",
     "text": [
      "[15, 20, 17, 31, 35, 71, 40, 16, 18, 23, 22, 43, 1, 34, 57, 97, 99, 100, 93, -1, 20, 31, 35, 22, 34, 97, 100]\n"
     ]
    }
   ],
   "source": [
    "print(preprocess_route(route))"
   ]
  },
  {
   "cell_type": "code",
   "execution_count": 28,
   "metadata": {},
   "outputs": [
    {
     "name": "stdout",
     "output_type": "stream",
     "text": [
      "[15, 20, 17, 31, 35, 71, 40, 16, 18, 23, 22, 43, 1, 34, 57, 97, 99, 100, 93, -1, 20, 31, 35, 22, 34, 97, 100]\n",
      "355.299031481012\n",
      "[4, 3, 13, 27, 12, 41, 73, 79, 53, 75, 95, 91, 80, -1, 4, 13, 79, 75, 91]\n",
      "285.4072075399187\n",
      "[10, 7, 8, 5, 24, 45, 51, 49, 76, 9, 55, 96, 66, 90, -1, 8, 24, 51, 76, 55, 66]\n",
      "248.438434395327\n",
      "[2, 21, 25, 50, 48, 77, 58, 62, 92, 19, 98, -1, 2, 25, 77, 58, 62, 19]\n",
      "285.28303970505243\n",
      "[33, 37, 59, 44, 28, 42, 81, 47, 11, 83, 94, 82, -1, 33, 28, 11, 94]\n",
      "434.155433239739\n",
      "[30, 64, 63, 88, 85, 89, -1, 64, 88, 89]\n"
     ]
    },
    {
     "ename": "IndexError",
     "evalue": "list index out of range",
     "output_type": "error",
     "traceback": [
      "\u001b[1;31m---------------------------------------------------------------------------\u001b[0m",
      "\u001b[1;31mIndexError\u001b[0m                                Traceback (most recent call last)",
      "Cell \u001b[1;32mIn[28], line 21\u001b[0m\n\u001b[0;32m     19\u001b[0m route \u001b[38;5;241m=\u001b[39m preprocess_route(route_list[i])\n\u001b[0;32m     20\u001b[0m \u001b[38;5;28mprint\u001b[39m(route)\n\u001b[1;32m---> 21\u001b[0m temp \u001b[38;5;241m=\u001b[39m \u001b[43mcal_carbon_emission\u001b[49m\u001b[43m(\u001b[49m\u001b[43mnetwork\u001b[49m\u001b[43m,\u001b[49m\u001b[43m \u001b[49m\u001b[43mroute\u001b[49m\u001b[43m)\u001b[49m\n\u001b[0;32m     22\u001b[0m \u001b[38;5;28mprint\u001b[39m(temp)\n\u001b[0;32m     23\u001b[0m car_bon \u001b[38;5;241m+\u001b[39m\u001b[38;5;241m=\u001b[39m temp\n",
      "File \u001b[1;32md:\\LAB\\DVRP\\DVRP_LY\\DVRPTW-drone-stochastic-demand\\deployment\\evaluation.py:117\u001b[0m, in \u001b[0;36mcal_carbon_emission\u001b[1;34m(network, routes)\u001b[0m\n\u001b[0;32m    113\u001b[0m     pre_pos \u001b[38;5;241m=\u001b[39m pos\n\u001b[0;32m    114\u001b[0m \u001b[38;5;28;01melse\u001b[39;00m:\n\u001b[0;32m    115\u001b[0m     \u001b[38;5;66;03m#Co luc sai\u001b[39;00m\n\u001b[0;32m    116\u001b[0m     \u001b[38;5;66;03m# print(\"pos: \", pos, planning_route, drone_route)\u001b[39;00m\n\u001b[1;32m--> 117\u001b[0m     \u001b[38;5;28;01mwhile\u001b[39;00m \u001b[43mplanning_route\u001b[49m\u001b[43m[\u001b[49m\u001b[43mpos\u001b[49m\u001b[43m]\u001b[49m \u001b[38;5;129;01min\u001b[39;00m drone_route:\n\u001b[0;32m    118\u001b[0m         pos \u001b[38;5;241m=\u001b[39m pos \u001b[38;5;241m+\u001b[39m \u001b[38;5;241m1\u001b[39m\n\u001b[0;32m    119\u001b[0m     \u001b[38;5;28;01mfor\u001b[39;00m i \u001b[38;5;129;01min\u001b[39;00m \u001b[38;5;28mrange\u001b[39m(pre_pos, pos):\n",
      "\u001b[1;31mIndexError\u001b[0m: list index out of range"
     ]
    }
   ],
   "source": [
    "from utils.utils import *\n",
    "from data.read_data import *\n",
    "from graph.network import Network\n",
    "from deployment.evaluation import cal_carbon_emission\n",
    "data_path = r\"data\\100\\h100c101.csv\"\n",
    "\n",
    "\n",
    "num_vehicle = 11\n",
    "truck_capacity = 1300\n",
    "drone_capacity = 10\n",
    "drone_endurance = 30\n",
    "reader = Read_data()\n",
    "request_list = reader.read_request(data_path)      \n",
    "network = Network(request_list, num_vehicle, truck_capacity, drone_capacity, drone_endurance)\n",
    "\n",
    "\n",
    "car_bon = 0\n",
    "for i in range(1, 12):\n",
    "    route = preprocess_route(route_list[i])\n",
    "    print(route)\n",
    "    temp = cal_carbon_emission(network, route)\n",
    "    print(temp)\n",
    "    car_bon += temp\n",
    "print(car_bon)\n",
    "\n",
    "\n"
   ]
  }
 ],
 "metadata": {
  "kernelspec": {
   "display_name": "Python 3",
   "language": "python",
   "name": "python3"
  },
  "language_info": {
   "codemirror_mode": {
    "name": "ipython",
    "version": 3
   },
   "file_extension": ".py",
   "mimetype": "text/x-python",
   "name": "python",
   "nbconvert_exporter": "python",
   "pygments_lexer": "ipython3",
   "version": "3.12.0"
  }
 },
 "nbformat": 4,
 "nbformat_minor": 2
}
