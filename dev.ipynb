{
 "cells": [
  {
   "cell_type": "code",
   "execution_count": 1,
   "metadata": {},
   "outputs": [],
   "source": [
    "import numpy as np\n"
   ]
  },
  {
   "cell_type": "code",
   "execution_count": 2,
   "metadata": {},
   "outputs": [],
   "source": [
    "planning_routes = [1,2,3,4,5,6,7]\n",
    "truck_routes = [1,4, 5, 7]\n",
    "drone_routes = [2,3,6]\n",
    "service_time = np.zeros(8)\n",
    "links = np.random.uniform(500,1000, (8,8))\n",
    "velocity_drone = 100\n",
    "velocity_truck = 50\n",
    "launch_time = 5\n",
    "receive_time = 5"
   ]
  },
  {
   "cell_type": "code",
   "execution_count": 3,
   "metadata": {},
   "outputs": [],
   "source": [
    "for pos in range(0, len(planning_routes)):\n",
    "    if pos == 0:\n",
    "        service_time[planning_routes[pos]] = links[0][planning_routes[pos]]/velocity_truck\n",
    "        continue\n",
    "    if planning_routes[pos] in drone_routes:\n",
    "        if planning_routes[pos-1] in drone_routes:\n",
    "            service_time[planning_routes[pos]] = service_time[planning_routes[pos-1]] + links[planning_routes[pos-1]][planning_routes[pos]]/velocity_drone\n",
    "        elif planning_routes[pos-1] in truck_routes:\n",
    "            service_time[planning_routes[pos]] = service_time[planning_routes[pos-1]] + links[planning_routes[pos-1]][planning_routes[pos]]/velocity_drone + launch_time\n",
    "    elif planning_routes[pos] in truck_routes:\n",
    "        pre_pos = pos - 1\n",
    "        while planning_routes[pre_pos] in drone_routes:\n",
    "            pre_pos = pre_pos - 1\n",
    "        if pre_pos == pos - 1:\n",
    "            service_time[planning_routes[pos]] = service_time[planning_routes[pos-1]] + links[planning_routes[pos-1]][planning_routes[pos]]/velocity_truck\n",
    "        else:\n",
    "            service_time[planning_routes[pos]] = max(service_time[planning_routes[pos - 1]] + links[planning_routes[pos - 1]][planning_routes[pos]]/velocity_drone + receive_time, service_time[planning_routes[pos-1]] + links[planning_routes[pos-1]][planning_routes[pos]]/velocity_truck)"
   ]
  },
  {
   "cell_type": "code",
   "execution_count": 4,
   "metadata": {},
   "outputs": [
    {
     "name": "stdout",
     "output_type": "stream",
     "text": [
      "[ 0.         13.10079698 24.95995248 33.96076147 48.64220105 62.18360208\n",
      " 73.90147189 86.27998721]\n"
     ]
    }
   ],
   "source": [
    "print(service_time)"
   ]
  },
  {
   "cell_type": "code",
   "execution_count": 5,
   "metadata": {},
   "outputs": [],
   "source": [
    "from graph.network import Node, Link, Network\n",
    "from graph.requests import Request\n",
    "from graph.vehicle import Truck, Drone\n",
    "import numpy as np\n",
    "import pandas as pd\n",
    "\n",
    "class Read_data:  \n",
    "    def read_request(self, PATH):\n",
    "        data_frame = pd.read_csv(PATH)\n",
    "        request_list = []\n",
    "        for iter, row in data_frame.iterrows():\n",
    "            request = Request(iter + 1, row['x'], row['y'], row['demand'], row['time'], row['servicetime'],\\\n",
    "                              row['open'], row['close'], row['drone_serve'])\n",
    "            request_list.append(request)\n",
    "        return request_list"
   ]
  },
  {
   "cell_type": "code",
   "execution_count": 6,
   "metadata": {},
   "outputs": [],
   "source": [
    "read_data = Read_data()\n",
    "read_data.read_request(r\"data\\benchmark_data\\h100c101.csv\")"
   ]
  }
 ],
 "metadata": {
  "kernelspec": {
   "display_name": "Python 3",
   "language": "python",
   "name": "python3"
  },
  "language_info": {
   "codemirror_mode": {
    "name": "ipython",
    "version": 3
   },
   "file_extension": ".py",
   "mimetype": "text/x-python",
   "name": "python",
   "nbconvert_exporter": "python",
   "pygments_lexer": "ipython3",
   "version": "3.12.0"
  }
 },
 "nbformat": 4,
 "nbformat_minor": 2
}
